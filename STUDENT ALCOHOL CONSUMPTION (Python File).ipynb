{
 "cells": [
  {
   "cell_type": "markdown",
   "metadata": {},
   "source": [
    "# Importing library of pandas"
   ]
  },
  {
   "cell_type": "code",
   "execution_count": 1,
   "metadata": {},
   "outputs": [],
   "source": [
    "import pandas as pd\n",
    "import numpy as np"
   ]
  },
  {
   "cell_type": "markdown",
   "metadata": {},
   "source": [
    "# Load file "
   ]
  },
  {
   "cell_type": "code",
   "execution_count": 2,
   "metadata": {},
   "outputs": [],
   "source": [
    "df1=pd.read_csv(\"C:/Users/komal/OneDrive/Desktop/Datasets/student-mat.csv\")\n",
    "df2=pd.read_csv(\"C:/Users/komal/OneDrive/Desktop/Datasets/student-por.csv\")"
   ]
  },
  {
   "cell_type": "markdown",
   "metadata": {},
   "source": [
    "# To check number of rows and column in df1"
   ]
  },
  {
   "cell_type": "code",
   "execution_count": 3,
   "metadata": {},
   "outputs": [
    {
     "data": {
      "text/plain": [
       "(395, 33)"
      ]
     },
     "execution_count": 3,
     "metadata": {},
     "output_type": "execute_result"
    }
   ],
   "source": [
    "df1.shape"
   ]
  },
  {
   "cell_type": "markdown",
   "metadata": {},
   "source": [
    "# To check number of rows and column in df1"
   ]
  },
  {
   "cell_type": "code",
   "execution_count": 4,
   "metadata": {},
   "outputs": [
    {
     "data": {
      "text/plain": [
       "(395, 33)"
      ]
     },
     "execution_count": 4,
     "metadata": {},
     "output_type": "execute_result"
    }
   ],
   "source": [
    "df1.shape\n"
   ]
  },
  {
   "cell_type": "markdown",
   "metadata": {},
   "source": [
    "# To check number of rows and column in df1"
   ]
  },
  {
   "cell_type": "code",
   "execution_count": 5,
   "metadata": {},
   "outputs": [
    {
     "data": {
      "text/plain": [
       "(649, 33)"
      ]
     },
     "execution_count": 5,
     "metadata": {},
     "output_type": "execute_result"
    }
   ],
   "source": [
    "df2.shape"
   ]
  },
  {
   "cell_type": "markdown",
   "metadata": {},
   "source": [
    "# Merging two datasets"
   ]
  },
  {
   "cell_type": "code",
   "execution_count": 6,
   "metadata": {},
   "outputs": [
    {
     "data": {
      "text/html": [
       "<div>\n",
       "<style scoped>\n",
       "    .dataframe tbody tr th:only-of-type {\n",
       "        vertical-align: middle;\n",
       "    }\n",
       "\n",
       "    .dataframe tbody tr th {\n",
       "        vertical-align: top;\n",
       "    }\n",
       "\n",
       "    .dataframe thead th {\n",
       "        text-align: right;\n",
       "    }\n",
       "</style>\n",
       "<table border=\"1\" class=\"dataframe\">\n",
       "  <thead>\n",
       "    <tr style=\"text-align: right;\">\n",
       "      <th></th>\n",
       "      <th>school</th>\n",
       "      <th>sex</th>\n",
       "      <th>age</th>\n",
       "      <th>address</th>\n",
       "      <th>famsize</th>\n",
       "      <th>Pstatus</th>\n",
       "      <th>Medu</th>\n",
       "      <th>Fedu</th>\n",
       "      <th>Mjob</th>\n",
       "      <th>Fjob</th>\n",
       "      <th>...</th>\n",
       "      <th>famrel</th>\n",
       "      <th>freetime</th>\n",
       "      <th>goout</th>\n",
       "      <th>Dalc</th>\n",
       "      <th>Walc</th>\n",
       "      <th>health</th>\n",
       "      <th>absences</th>\n",
       "      <th>G1</th>\n",
       "      <th>G2</th>\n",
       "      <th>G3</th>\n",
       "    </tr>\n",
       "  </thead>\n",
       "  <tbody>\n",
       "    <tr>\n",
       "      <th>0</th>\n",
       "      <td>GP</td>\n",
       "      <td>F</td>\n",
       "      <td>18</td>\n",
       "      <td>U</td>\n",
       "      <td>GT3</td>\n",
       "      <td>A</td>\n",
       "      <td>4</td>\n",
       "      <td>4</td>\n",
       "      <td>at_home</td>\n",
       "      <td>teacher</td>\n",
       "      <td>...</td>\n",
       "      <td>4</td>\n",
       "      <td>3</td>\n",
       "      <td>4</td>\n",
       "      <td>1</td>\n",
       "      <td>1</td>\n",
       "      <td>3</td>\n",
       "      <td>6</td>\n",
       "      <td>5</td>\n",
       "      <td>6</td>\n",
       "      <td>6</td>\n",
       "    </tr>\n",
       "    <tr>\n",
       "      <th>1</th>\n",
       "      <td>GP</td>\n",
       "      <td>F</td>\n",
       "      <td>17</td>\n",
       "      <td>U</td>\n",
       "      <td>GT3</td>\n",
       "      <td>T</td>\n",
       "      <td>1</td>\n",
       "      <td>1</td>\n",
       "      <td>at_home</td>\n",
       "      <td>other</td>\n",
       "      <td>...</td>\n",
       "      <td>5</td>\n",
       "      <td>3</td>\n",
       "      <td>3</td>\n",
       "      <td>1</td>\n",
       "      <td>1</td>\n",
       "      <td>3</td>\n",
       "      <td>4</td>\n",
       "      <td>5</td>\n",
       "      <td>5</td>\n",
       "      <td>6</td>\n",
       "    </tr>\n",
       "    <tr>\n",
       "      <th>2</th>\n",
       "      <td>GP</td>\n",
       "      <td>F</td>\n",
       "      <td>15</td>\n",
       "      <td>U</td>\n",
       "      <td>LE3</td>\n",
       "      <td>T</td>\n",
       "      <td>1</td>\n",
       "      <td>1</td>\n",
       "      <td>at_home</td>\n",
       "      <td>other</td>\n",
       "      <td>...</td>\n",
       "      <td>4</td>\n",
       "      <td>3</td>\n",
       "      <td>2</td>\n",
       "      <td>2</td>\n",
       "      <td>3</td>\n",
       "      <td>3</td>\n",
       "      <td>10</td>\n",
       "      <td>7</td>\n",
       "      <td>8</td>\n",
       "      <td>10</td>\n",
       "    </tr>\n",
       "    <tr>\n",
       "      <th>3</th>\n",
       "      <td>GP</td>\n",
       "      <td>F</td>\n",
       "      <td>15</td>\n",
       "      <td>U</td>\n",
       "      <td>GT3</td>\n",
       "      <td>T</td>\n",
       "      <td>4</td>\n",
       "      <td>2</td>\n",
       "      <td>health</td>\n",
       "      <td>services</td>\n",
       "      <td>...</td>\n",
       "      <td>3</td>\n",
       "      <td>2</td>\n",
       "      <td>2</td>\n",
       "      <td>1</td>\n",
       "      <td>1</td>\n",
       "      <td>5</td>\n",
       "      <td>2</td>\n",
       "      <td>15</td>\n",
       "      <td>14</td>\n",
       "      <td>15</td>\n",
       "    </tr>\n",
       "    <tr>\n",
       "      <th>4</th>\n",
       "      <td>GP</td>\n",
       "      <td>F</td>\n",
       "      <td>16</td>\n",
       "      <td>U</td>\n",
       "      <td>GT3</td>\n",
       "      <td>T</td>\n",
       "      <td>3</td>\n",
       "      <td>3</td>\n",
       "      <td>other</td>\n",
       "      <td>other</td>\n",
       "      <td>...</td>\n",
       "      <td>4</td>\n",
       "      <td>3</td>\n",
       "      <td>2</td>\n",
       "      <td>1</td>\n",
       "      <td>2</td>\n",
       "      <td>5</td>\n",
       "      <td>4</td>\n",
       "      <td>6</td>\n",
       "      <td>10</td>\n",
       "      <td>10</td>\n",
       "    </tr>\n",
       "    <tr>\n",
       "      <th>...</th>\n",
       "      <td>...</td>\n",
       "      <td>...</td>\n",
       "      <td>...</td>\n",
       "      <td>...</td>\n",
       "      <td>...</td>\n",
       "      <td>...</td>\n",
       "      <td>...</td>\n",
       "      <td>...</td>\n",
       "      <td>...</td>\n",
       "      <td>...</td>\n",
       "      <td>...</td>\n",
       "      <td>...</td>\n",
       "      <td>...</td>\n",
       "      <td>...</td>\n",
       "      <td>...</td>\n",
       "      <td>...</td>\n",
       "      <td>...</td>\n",
       "      <td>...</td>\n",
       "      <td>...</td>\n",
       "      <td>...</td>\n",
       "      <td>...</td>\n",
       "    </tr>\n",
       "    <tr>\n",
       "      <th>1039</th>\n",
       "      <td>MS</td>\n",
       "      <td>F</td>\n",
       "      <td>19</td>\n",
       "      <td>R</td>\n",
       "      <td>GT3</td>\n",
       "      <td>T</td>\n",
       "      <td>2</td>\n",
       "      <td>3</td>\n",
       "      <td>services</td>\n",
       "      <td>other</td>\n",
       "      <td>...</td>\n",
       "      <td>5</td>\n",
       "      <td>4</td>\n",
       "      <td>2</td>\n",
       "      <td>1</td>\n",
       "      <td>2</td>\n",
       "      <td>5</td>\n",
       "      <td>4</td>\n",
       "      <td>10</td>\n",
       "      <td>11</td>\n",
       "      <td>10</td>\n",
       "    </tr>\n",
       "    <tr>\n",
       "      <th>1040</th>\n",
       "      <td>MS</td>\n",
       "      <td>F</td>\n",
       "      <td>18</td>\n",
       "      <td>U</td>\n",
       "      <td>LE3</td>\n",
       "      <td>T</td>\n",
       "      <td>3</td>\n",
       "      <td>1</td>\n",
       "      <td>teacher</td>\n",
       "      <td>services</td>\n",
       "      <td>...</td>\n",
       "      <td>4</td>\n",
       "      <td>3</td>\n",
       "      <td>4</td>\n",
       "      <td>1</td>\n",
       "      <td>1</td>\n",
       "      <td>1</td>\n",
       "      <td>4</td>\n",
       "      <td>15</td>\n",
       "      <td>15</td>\n",
       "      <td>16</td>\n",
       "    </tr>\n",
       "    <tr>\n",
       "      <th>1041</th>\n",
       "      <td>MS</td>\n",
       "      <td>F</td>\n",
       "      <td>18</td>\n",
       "      <td>U</td>\n",
       "      <td>GT3</td>\n",
       "      <td>T</td>\n",
       "      <td>1</td>\n",
       "      <td>1</td>\n",
       "      <td>other</td>\n",
       "      <td>other</td>\n",
       "      <td>...</td>\n",
       "      <td>1</td>\n",
       "      <td>1</td>\n",
       "      <td>1</td>\n",
       "      <td>1</td>\n",
       "      <td>1</td>\n",
       "      <td>5</td>\n",
       "      <td>6</td>\n",
       "      <td>11</td>\n",
       "      <td>12</td>\n",
       "      <td>9</td>\n",
       "    </tr>\n",
       "    <tr>\n",
       "      <th>1042</th>\n",
       "      <td>MS</td>\n",
       "      <td>M</td>\n",
       "      <td>17</td>\n",
       "      <td>U</td>\n",
       "      <td>LE3</td>\n",
       "      <td>T</td>\n",
       "      <td>3</td>\n",
       "      <td>1</td>\n",
       "      <td>services</td>\n",
       "      <td>services</td>\n",
       "      <td>...</td>\n",
       "      <td>2</td>\n",
       "      <td>4</td>\n",
       "      <td>5</td>\n",
       "      <td>3</td>\n",
       "      <td>4</td>\n",
       "      <td>2</td>\n",
       "      <td>6</td>\n",
       "      <td>10</td>\n",
       "      <td>10</td>\n",
       "      <td>10</td>\n",
       "    </tr>\n",
       "    <tr>\n",
       "      <th>1043</th>\n",
       "      <td>MS</td>\n",
       "      <td>M</td>\n",
       "      <td>18</td>\n",
       "      <td>R</td>\n",
       "      <td>LE3</td>\n",
       "      <td>T</td>\n",
       "      <td>3</td>\n",
       "      <td>2</td>\n",
       "      <td>services</td>\n",
       "      <td>other</td>\n",
       "      <td>...</td>\n",
       "      <td>4</td>\n",
       "      <td>4</td>\n",
       "      <td>1</td>\n",
       "      <td>3</td>\n",
       "      <td>4</td>\n",
       "      <td>5</td>\n",
       "      <td>4</td>\n",
       "      <td>10</td>\n",
       "      <td>11</td>\n",
       "      <td>11</td>\n",
       "    </tr>\n",
       "  </tbody>\n",
       "</table>\n",
       "<p>1044 rows × 33 columns</p>\n",
       "</div>"
      ],
      "text/plain": [
       "     school sex  age address famsize Pstatus  Medu  Fedu      Mjob      Fjob  \\\n",
       "0        GP   F   18       U     GT3       A     4     4   at_home   teacher   \n",
       "1        GP   F   17       U     GT3       T     1     1   at_home     other   \n",
       "2        GP   F   15       U     LE3       T     1     1   at_home     other   \n",
       "3        GP   F   15       U     GT3       T     4     2    health  services   \n",
       "4        GP   F   16       U     GT3       T     3     3     other     other   \n",
       "...     ...  ..  ...     ...     ...     ...   ...   ...       ...       ...   \n",
       "1039     MS   F   19       R     GT3       T     2     3  services     other   \n",
       "1040     MS   F   18       U     LE3       T     3     1   teacher  services   \n",
       "1041     MS   F   18       U     GT3       T     1     1     other     other   \n",
       "1042     MS   M   17       U     LE3       T     3     1  services  services   \n",
       "1043     MS   M   18       R     LE3       T     3     2  services     other   \n",
       "\n",
       "      ... famrel freetime  goout  Dalc  Walc health absences  G1  G2  G3  \n",
       "0     ...      4        3      4     1     1      3        6   5   6   6  \n",
       "1     ...      5        3      3     1     1      3        4   5   5   6  \n",
       "2     ...      4        3      2     2     3      3       10   7   8  10  \n",
       "3     ...      3        2      2     1     1      5        2  15  14  15  \n",
       "4     ...      4        3      2     1     2      5        4   6  10  10  \n",
       "...   ...    ...      ...    ...   ...   ...    ...      ...  ..  ..  ..  \n",
       "1039  ...      5        4      2     1     2      5        4  10  11  10  \n",
       "1040  ...      4        3      4     1     1      1        4  15  15  16  \n",
       "1041  ...      1        1      1     1     1      5        6  11  12   9  \n",
       "1042  ...      2        4      5     3     4      2        6  10  10  10  \n",
       "1043  ...      4        4      1     3     4      5        4  10  11  11  \n",
       "\n",
       "[1044 rows x 33 columns]"
      ]
     },
     "execution_count": 6,
     "metadata": {},
     "output_type": "execute_result"
    }
   ],
   "source": [
    "df=pd.concat([df1,df2],ignore_index = True)\n",
    "df"
   ]
  },
  {
   "cell_type": "markdown",
   "metadata": {
    "scrolled": true
   },
   "source": [
    "# First 10 rows of dataset "
   ]
  },
  {
   "cell_type": "code",
   "execution_count": 7,
   "metadata": {},
   "outputs": [
    {
     "data": {
      "text/html": [
       "<div>\n",
       "<style scoped>\n",
       "    .dataframe tbody tr th:only-of-type {\n",
       "        vertical-align: middle;\n",
       "    }\n",
       "\n",
       "    .dataframe tbody tr th {\n",
       "        vertical-align: top;\n",
       "    }\n",
       "\n",
       "    .dataframe thead th {\n",
       "        text-align: right;\n",
       "    }\n",
       "</style>\n",
       "<table border=\"1\" class=\"dataframe\">\n",
       "  <thead>\n",
       "    <tr style=\"text-align: right;\">\n",
       "      <th></th>\n",
       "      <th>school</th>\n",
       "      <th>sex</th>\n",
       "      <th>age</th>\n",
       "      <th>address</th>\n",
       "      <th>famsize</th>\n",
       "      <th>Pstatus</th>\n",
       "      <th>Medu</th>\n",
       "      <th>Fedu</th>\n",
       "      <th>Mjob</th>\n",
       "      <th>Fjob</th>\n",
       "      <th>...</th>\n",
       "      <th>famrel</th>\n",
       "      <th>freetime</th>\n",
       "      <th>goout</th>\n",
       "      <th>Dalc</th>\n",
       "      <th>Walc</th>\n",
       "      <th>health</th>\n",
       "      <th>absences</th>\n",
       "      <th>G1</th>\n",
       "      <th>G2</th>\n",
       "      <th>G3</th>\n",
       "    </tr>\n",
       "  </thead>\n",
       "  <tbody>\n",
       "    <tr>\n",
       "      <th>0</th>\n",
       "      <td>GP</td>\n",
       "      <td>F</td>\n",
       "      <td>18</td>\n",
       "      <td>U</td>\n",
       "      <td>GT3</td>\n",
       "      <td>A</td>\n",
       "      <td>4</td>\n",
       "      <td>4</td>\n",
       "      <td>at_home</td>\n",
       "      <td>teacher</td>\n",
       "      <td>...</td>\n",
       "      <td>4</td>\n",
       "      <td>3</td>\n",
       "      <td>4</td>\n",
       "      <td>1</td>\n",
       "      <td>1</td>\n",
       "      <td>3</td>\n",
       "      <td>6</td>\n",
       "      <td>5</td>\n",
       "      <td>6</td>\n",
       "      <td>6</td>\n",
       "    </tr>\n",
       "    <tr>\n",
       "      <th>1</th>\n",
       "      <td>GP</td>\n",
       "      <td>F</td>\n",
       "      <td>17</td>\n",
       "      <td>U</td>\n",
       "      <td>GT3</td>\n",
       "      <td>T</td>\n",
       "      <td>1</td>\n",
       "      <td>1</td>\n",
       "      <td>at_home</td>\n",
       "      <td>other</td>\n",
       "      <td>...</td>\n",
       "      <td>5</td>\n",
       "      <td>3</td>\n",
       "      <td>3</td>\n",
       "      <td>1</td>\n",
       "      <td>1</td>\n",
       "      <td>3</td>\n",
       "      <td>4</td>\n",
       "      <td>5</td>\n",
       "      <td>5</td>\n",
       "      <td>6</td>\n",
       "    </tr>\n",
       "    <tr>\n",
       "      <th>2</th>\n",
       "      <td>GP</td>\n",
       "      <td>F</td>\n",
       "      <td>15</td>\n",
       "      <td>U</td>\n",
       "      <td>LE3</td>\n",
       "      <td>T</td>\n",
       "      <td>1</td>\n",
       "      <td>1</td>\n",
       "      <td>at_home</td>\n",
       "      <td>other</td>\n",
       "      <td>...</td>\n",
       "      <td>4</td>\n",
       "      <td>3</td>\n",
       "      <td>2</td>\n",
       "      <td>2</td>\n",
       "      <td>3</td>\n",
       "      <td>3</td>\n",
       "      <td>10</td>\n",
       "      <td>7</td>\n",
       "      <td>8</td>\n",
       "      <td>10</td>\n",
       "    </tr>\n",
       "    <tr>\n",
       "      <th>3</th>\n",
       "      <td>GP</td>\n",
       "      <td>F</td>\n",
       "      <td>15</td>\n",
       "      <td>U</td>\n",
       "      <td>GT3</td>\n",
       "      <td>T</td>\n",
       "      <td>4</td>\n",
       "      <td>2</td>\n",
       "      <td>health</td>\n",
       "      <td>services</td>\n",
       "      <td>...</td>\n",
       "      <td>3</td>\n",
       "      <td>2</td>\n",
       "      <td>2</td>\n",
       "      <td>1</td>\n",
       "      <td>1</td>\n",
       "      <td>5</td>\n",
       "      <td>2</td>\n",
       "      <td>15</td>\n",
       "      <td>14</td>\n",
       "      <td>15</td>\n",
       "    </tr>\n",
       "    <tr>\n",
       "      <th>4</th>\n",
       "      <td>GP</td>\n",
       "      <td>F</td>\n",
       "      <td>16</td>\n",
       "      <td>U</td>\n",
       "      <td>GT3</td>\n",
       "      <td>T</td>\n",
       "      <td>3</td>\n",
       "      <td>3</td>\n",
       "      <td>other</td>\n",
       "      <td>other</td>\n",
       "      <td>...</td>\n",
       "      <td>4</td>\n",
       "      <td>3</td>\n",
       "      <td>2</td>\n",
       "      <td>1</td>\n",
       "      <td>2</td>\n",
       "      <td>5</td>\n",
       "      <td>4</td>\n",
       "      <td>6</td>\n",
       "      <td>10</td>\n",
       "      <td>10</td>\n",
       "    </tr>\n",
       "    <tr>\n",
       "      <th>5</th>\n",
       "      <td>GP</td>\n",
       "      <td>M</td>\n",
       "      <td>16</td>\n",
       "      <td>U</td>\n",
       "      <td>LE3</td>\n",
       "      <td>T</td>\n",
       "      <td>4</td>\n",
       "      <td>3</td>\n",
       "      <td>services</td>\n",
       "      <td>other</td>\n",
       "      <td>...</td>\n",
       "      <td>5</td>\n",
       "      <td>4</td>\n",
       "      <td>2</td>\n",
       "      <td>1</td>\n",
       "      <td>2</td>\n",
       "      <td>5</td>\n",
       "      <td>10</td>\n",
       "      <td>15</td>\n",
       "      <td>15</td>\n",
       "      <td>15</td>\n",
       "    </tr>\n",
       "    <tr>\n",
       "      <th>6</th>\n",
       "      <td>GP</td>\n",
       "      <td>M</td>\n",
       "      <td>16</td>\n",
       "      <td>U</td>\n",
       "      <td>LE3</td>\n",
       "      <td>T</td>\n",
       "      <td>2</td>\n",
       "      <td>2</td>\n",
       "      <td>other</td>\n",
       "      <td>other</td>\n",
       "      <td>...</td>\n",
       "      <td>4</td>\n",
       "      <td>4</td>\n",
       "      <td>4</td>\n",
       "      <td>1</td>\n",
       "      <td>1</td>\n",
       "      <td>3</td>\n",
       "      <td>0</td>\n",
       "      <td>12</td>\n",
       "      <td>12</td>\n",
       "      <td>11</td>\n",
       "    </tr>\n",
       "    <tr>\n",
       "      <th>7</th>\n",
       "      <td>GP</td>\n",
       "      <td>F</td>\n",
       "      <td>17</td>\n",
       "      <td>U</td>\n",
       "      <td>GT3</td>\n",
       "      <td>A</td>\n",
       "      <td>4</td>\n",
       "      <td>4</td>\n",
       "      <td>other</td>\n",
       "      <td>teacher</td>\n",
       "      <td>...</td>\n",
       "      <td>4</td>\n",
       "      <td>1</td>\n",
       "      <td>4</td>\n",
       "      <td>1</td>\n",
       "      <td>1</td>\n",
       "      <td>1</td>\n",
       "      <td>6</td>\n",
       "      <td>6</td>\n",
       "      <td>5</td>\n",
       "      <td>6</td>\n",
       "    </tr>\n",
       "    <tr>\n",
       "      <th>8</th>\n",
       "      <td>GP</td>\n",
       "      <td>M</td>\n",
       "      <td>15</td>\n",
       "      <td>U</td>\n",
       "      <td>LE3</td>\n",
       "      <td>A</td>\n",
       "      <td>3</td>\n",
       "      <td>2</td>\n",
       "      <td>services</td>\n",
       "      <td>other</td>\n",
       "      <td>...</td>\n",
       "      <td>4</td>\n",
       "      <td>2</td>\n",
       "      <td>2</td>\n",
       "      <td>1</td>\n",
       "      <td>1</td>\n",
       "      <td>1</td>\n",
       "      <td>0</td>\n",
       "      <td>16</td>\n",
       "      <td>18</td>\n",
       "      <td>19</td>\n",
       "    </tr>\n",
       "    <tr>\n",
       "      <th>9</th>\n",
       "      <td>GP</td>\n",
       "      <td>M</td>\n",
       "      <td>15</td>\n",
       "      <td>U</td>\n",
       "      <td>GT3</td>\n",
       "      <td>T</td>\n",
       "      <td>3</td>\n",
       "      <td>4</td>\n",
       "      <td>other</td>\n",
       "      <td>other</td>\n",
       "      <td>...</td>\n",
       "      <td>5</td>\n",
       "      <td>5</td>\n",
       "      <td>1</td>\n",
       "      <td>1</td>\n",
       "      <td>1</td>\n",
       "      <td>5</td>\n",
       "      <td>0</td>\n",
       "      <td>14</td>\n",
       "      <td>15</td>\n",
       "      <td>15</td>\n",
       "    </tr>\n",
       "  </tbody>\n",
       "</table>\n",
       "<p>10 rows × 33 columns</p>\n",
       "</div>"
      ],
      "text/plain": [
       "  school sex  age address famsize Pstatus  Medu  Fedu      Mjob      Fjob  \\\n",
       "0     GP   F   18       U     GT3       A     4     4   at_home   teacher   \n",
       "1     GP   F   17       U     GT3       T     1     1   at_home     other   \n",
       "2     GP   F   15       U     LE3       T     1     1   at_home     other   \n",
       "3     GP   F   15       U     GT3       T     4     2    health  services   \n",
       "4     GP   F   16       U     GT3       T     3     3     other     other   \n",
       "5     GP   M   16       U     LE3       T     4     3  services     other   \n",
       "6     GP   M   16       U     LE3       T     2     2     other     other   \n",
       "7     GP   F   17       U     GT3       A     4     4     other   teacher   \n",
       "8     GP   M   15       U     LE3       A     3     2  services     other   \n",
       "9     GP   M   15       U     GT3       T     3     4     other     other   \n",
       "\n",
       "   ... famrel freetime  goout  Dalc  Walc health absences  G1  G2  G3  \n",
       "0  ...      4        3      4     1     1      3        6   5   6   6  \n",
       "1  ...      5        3      3     1     1      3        4   5   5   6  \n",
       "2  ...      4        3      2     2     3      3       10   7   8  10  \n",
       "3  ...      3        2      2     1     1      5        2  15  14  15  \n",
       "4  ...      4        3      2     1     2      5        4   6  10  10  \n",
       "5  ...      5        4      2     1     2      5       10  15  15  15  \n",
       "6  ...      4        4      4     1     1      3        0  12  12  11  \n",
       "7  ...      4        1      4     1     1      1        6   6   5   6  \n",
       "8  ...      4        2      2     1     1      1        0  16  18  19  \n",
       "9  ...      5        5      1     1     1      5        0  14  15  15  \n",
       "\n",
       "[10 rows x 33 columns]"
      ]
     },
     "execution_count": 7,
     "metadata": {},
     "output_type": "execute_result"
    }
   ],
   "source": [
    "head=df.head(10)\n",
    "head.to_csv(\"C:/Users/komal/Downloads/grp_1_outputs/export_dataframe.csv\")\n",
    "head\n"
   ]
  },
  {
   "cell_type": "markdown",
   "metadata": {},
   "source": [
    "# Last 10 rows of dataset "
   ]
  },
  {
   "cell_type": "code",
   "execution_count": 8,
   "metadata": {},
   "outputs": [
    {
     "data": {
      "text/html": [
       "<div>\n",
       "<style scoped>\n",
       "    .dataframe tbody tr th:only-of-type {\n",
       "        vertical-align: middle;\n",
       "    }\n",
       "\n",
       "    .dataframe tbody tr th {\n",
       "        vertical-align: top;\n",
       "    }\n",
       "\n",
       "    .dataframe thead th {\n",
       "        text-align: right;\n",
       "    }\n",
       "</style>\n",
       "<table border=\"1\" class=\"dataframe\">\n",
       "  <thead>\n",
       "    <tr style=\"text-align: right;\">\n",
       "      <th></th>\n",
       "      <th>school</th>\n",
       "      <th>sex</th>\n",
       "      <th>age</th>\n",
       "      <th>address</th>\n",
       "      <th>famsize</th>\n",
       "      <th>Pstatus</th>\n",
       "      <th>Medu</th>\n",
       "      <th>Fedu</th>\n",
       "      <th>Mjob</th>\n",
       "      <th>Fjob</th>\n",
       "      <th>...</th>\n",
       "      <th>famrel</th>\n",
       "      <th>freetime</th>\n",
       "      <th>goout</th>\n",
       "      <th>Dalc</th>\n",
       "      <th>Walc</th>\n",
       "      <th>health</th>\n",
       "      <th>absences</th>\n",
       "      <th>G1</th>\n",
       "      <th>G2</th>\n",
       "      <th>G3</th>\n",
       "    </tr>\n",
       "  </thead>\n",
       "  <tbody>\n",
       "    <tr>\n",
       "      <th>1034</th>\n",
       "      <td>MS</td>\n",
       "      <td>M</td>\n",
       "      <td>19</td>\n",
       "      <td>R</td>\n",
       "      <td>GT3</td>\n",
       "      <td>T</td>\n",
       "      <td>1</td>\n",
       "      <td>1</td>\n",
       "      <td>other</td>\n",
       "      <td>services</td>\n",
       "      <td>...</td>\n",
       "      <td>4</td>\n",
       "      <td>3</td>\n",
       "      <td>2</td>\n",
       "      <td>1</td>\n",
       "      <td>3</td>\n",
       "      <td>5</td>\n",
       "      <td>0</td>\n",
       "      <td>5</td>\n",
       "      <td>8</td>\n",
       "      <td>0</td>\n",
       "    </tr>\n",
       "    <tr>\n",
       "      <th>1035</th>\n",
       "      <td>MS</td>\n",
       "      <td>M</td>\n",
       "      <td>18</td>\n",
       "      <td>R</td>\n",
       "      <td>GT3</td>\n",
       "      <td>T</td>\n",
       "      <td>4</td>\n",
       "      <td>2</td>\n",
       "      <td>other</td>\n",
       "      <td>other</td>\n",
       "      <td>...</td>\n",
       "      <td>5</td>\n",
       "      <td>4</td>\n",
       "      <td>3</td>\n",
       "      <td>4</td>\n",
       "      <td>3</td>\n",
       "      <td>3</td>\n",
       "      <td>0</td>\n",
       "      <td>7</td>\n",
       "      <td>7</td>\n",
       "      <td>0</td>\n",
       "    </tr>\n",
       "    <tr>\n",
       "      <th>1036</th>\n",
       "      <td>MS</td>\n",
       "      <td>F</td>\n",
       "      <td>18</td>\n",
       "      <td>R</td>\n",
       "      <td>GT3</td>\n",
       "      <td>T</td>\n",
       "      <td>2</td>\n",
       "      <td>2</td>\n",
       "      <td>at_home</td>\n",
       "      <td>other</td>\n",
       "      <td>...</td>\n",
       "      <td>5</td>\n",
       "      <td>3</td>\n",
       "      <td>3</td>\n",
       "      <td>1</td>\n",
       "      <td>3</td>\n",
       "      <td>4</td>\n",
       "      <td>0</td>\n",
       "      <td>14</td>\n",
       "      <td>17</td>\n",
       "      <td>15</td>\n",
       "    </tr>\n",
       "    <tr>\n",
       "      <th>1037</th>\n",
       "      <td>MS</td>\n",
       "      <td>F</td>\n",
       "      <td>17</td>\n",
       "      <td>U</td>\n",
       "      <td>GT3</td>\n",
       "      <td>T</td>\n",
       "      <td>4</td>\n",
       "      <td>3</td>\n",
       "      <td>teacher</td>\n",
       "      <td>other</td>\n",
       "      <td>...</td>\n",
       "      <td>5</td>\n",
       "      <td>5</td>\n",
       "      <td>4</td>\n",
       "      <td>1</td>\n",
       "      <td>1</td>\n",
       "      <td>1</td>\n",
       "      <td>0</td>\n",
       "      <td>6</td>\n",
       "      <td>9</td>\n",
       "      <td>11</td>\n",
       "    </tr>\n",
       "    <tr>\n",
       "      <th>1038</th>\n",
       "      <td>MS</td>\n",
       "      <td>F</td>\n",
       "      <td>18</td>\n",
       "      <td>R</td>\n",
       "      <td>GT3</td>\n",
       "      <td>T</td>\n",
       "      <td>4</td>\n",
       "      <td>4</td>\n",
       "      <td>teacher</td>\n",
       "      <td>at_home</td>\n",
       "      <td>...</td>\n",
       "      <td>4</td>\n",
       "      <td>4</td>\n",
       "      <td>3</td>\n",
       "      <td>2</td>\n",
       "      <td>2</td>\n",
       "      <td>5</td>\n",
       "      <td>4</td>\n",
       "      <td>7</td>\n",
       "      <td>9</td>\n",
       "      <td>10</td>\n",
       "    </tr>\n",
       "    <tr>\n",
       "      <th>1039</th>\n",
       "      <td>MS</td>\n",
       "      <td>F</td>\n",
       "      <td>19</td>\n",
       "      <td>R</td>\n",
       "      <td>GT3</td>\n",
       "      <td>T</td>\n",
       "      <td>2</td>\n",
       "      <td>3</td>\n",
       "      <td>services</td>\n",
       "      <td>other</td>\n",
       "      <td>...</td>\n",
       "      <td>5</td>\n",
       "      <td>4</td>\n",
       "      <td>2</td>\n",
       "      <td>1</td>\n",
       "      <td>2</td>\n",
       "      <td>5</td>\n",
       "      <td>4</td>\n",
       "      <td>10</td>\n",
       "      <td>11</td>\n",
       "      <td>10</td>\n",
       "    </tr>\n",
       "    <tr>\n",
       "      <th>1040</th>\n",
       "      <td>MS</td>\n",
       "      <td>F</td>\n",
       "      <td>18</td>\n",
       "      <td>U</td>\n",
       "      <td>LE3</td>\n",
       "      <td>T</td>\n",
       "      <td>3</td>\n",
       "      <td>1</td>\n",
       "      <td>teacher</td>\n",
       "      <td>services</td>\n",
       "      <td>...</td>\n",
       "      <td>4</td>\n",
       "      <td>3</td>\n",
       "      <td>4</td>\n",
       "      <td>1</td>\n",
       "      <td>1</td>\n",
       "      <td>1</td>\n",
       "      <td>4</td>\n",
       "      <td>15</td>\n",
       "      <td>15</td>\n",
       "      <td>16</td>\n",
       "    </tr>\n",
       "    <tr>\n",
       "      <th>1041</th>\n",
       "      <td>MS</td>\n",
       "      <td>F</td>\n",
       "      <td>18</td>\n",
       "      <td>U</td>\n",
       "      <td>GT3</td>\n",
       "      <td>T</td>\n",
       "      <td>1</td>\n",
       "      <td>1</td>\n",
       "      <td>other</td>\n",
       "      <td>other</td>\n",
       "      <td>...</td>\n",
       "      <td>1</td>\n",
       "      <td>1</td>\n",
       "      <td>1</td>\n",
       "      <td>1</td>\n",
       "      <td>1</td>\n",
       "      <td>5</td>\n",
       "      <td>6</td>\n",
       "      <td>11</td>\n",
       "      <td>12</td>\n",
       "      <td>9</td>\n",
       "    </tr>\n",
       "    <tr>\n",
       "      <th>1042</th>\n",
       "      <td>MS</td>\n",
       "      <td>M</td>\n",
       "      <td>17</td>\n",
       "      <td>U</td>\n",
       "      <td>LE3</td>\n",
       "      <td>T</td>\n",
       "      <td>3</td>\n",
       "      <td>1</td>\n",
       "      <td>services</td>\n",
       "      <td>services</td>\n",
       "      <td>...</td>\n",
       "      <td>2</td>\n",
       "      <td>4</td>\n",
       "      <td>5</td>\n",
       "      <td>3</td>\n",
       "      <td>4</td>\n",
       "      <td>2</td>\n",
       "      <td>6</td>\n",
       "      <td>10</td>\n",
       "      <td>10</td>\n",
       "      <td>10</td>\n",
       "    </tr>\n",
       "    <tr>\n",
       "      <th>1043</th>\n",
       "      <td>MS</td>\n",
       "      <td>M</td>\n",
       "      <td>18</td>\n",
       "      <td>R</td>\n",
       "      <td>LE3</td>\n",
       "      <td>T</td>\n",
       "      <td>3</td>\n",
       "      <td>2</td>\n",
       "      <td>services</td>\n",
       "      <td>other</td>\n",
       "      <td>...</td>\n",
       "      <td>4</td>\n",
       "      <td>4</td>\n",
       "      <td>1</td>\n",
       "      <td>3</td>\n",
       "      <td>4</td>\n",
       "      <td>5</td>\n",
       "      <td>4</td>\n",
       "      <td>10</td>\n",
       "      <td>11</td>\n",
       "      <td>11</td>\n",
       "    </tr>\n",
       "  </tbody>\n",
       "</table>\n",
       "<p>10 rows × 33 columns</p>\n",
       "</div>"
      ],
      "text/plain": [
       "     school sex  age address famsize Pstatus  Medu  Fedu      Mjob      Fjob  \\\n",
       "1034     MS   M   19       R     GT3       T     1     1     other  services   \n",
       "1035     MS   M   18       R     GT3       T     4     2     other     other   \n",
       "1036     MS   F   18       R     GT3       T     2     2   at_home     other   \n",
       "1037     MS   F   17       U     GT3       T     4     3   teacher     other   \n",
       "1038     MS   F   18       R     GT3       T     4     4   teacher   at_home   \n",
       "1039     MS   F   19       R     GT3       T     2     3  services     other   \n",
       "1040     MS   F   18       U     LE3       T     3     1   teacher  services   \n",
       "1041     MS   F   18       U     GT3       T     1     1     other     other   \n",
       "1042     MS   M   17       U     LE3       T     3     1  services  services   \n",
       "1043     MS   M   18       R     LE3       T     3     2  services     other   \n",
       "\n",
       "      ... famrel freetime  goout  Dalc  Walc health absences  G1  G2  G3  \n",
       "1034  ...      4        3      2     1     3      5        0   5   8   0  \n",
       "1035  ...      5        4      3     4     3      3        0   7   7   0  \n",
       "1036  ...      5        3      3     1     3      4        0  14  17  15  \n",
       "1037  ...      5        5      4     1     1      1        0   6   9  11  \n",
       "1038  ...      4        4      3     2     2      5        4   7   9  10  \n",
       "1039  ...      5        4      2     1     2      5        4  10  11  10  \n",
       "1040  ...      4        3      4     1     1      1        4  15  15  16  \n",
       "1041  ...      1        1      1     1     1      5        6  11  12   9  \n",
       "1042  ...      2        4      5     3     4      2        6  10  10  10  \n",
       "1043  ...      4        4      1     3     4      5        4  10  11  11  \n",
       "\n",
       "[10 rows x 33 columns]"
      ]
     },
     "execution_count": 8,
     "metadata": {},
     "output_type": "execute_result"
    }
   ],
   "source": [
    "tail=df.tail(10)\n",
    "tail.to_csv(\"C:/Users/komal/Downloads/grp_1_outputs/export_dataframe.csv\")\n",
    "tail\n"
   ]
  },
  {
   "cell_type": "markdown",
   "metadata": {},
   "source": [
    "# Rows and Columns in our Actual Dataset "
   ]
  },
  {
   "cell_type": "code",
   "execution_count": 9,
   "metadata": {},
   "outputs": [
    {
     "data": {
      "text/plain": [
       "(1044, 33)"
      ]
     },
     "execution_count": 9,
     "metadata": {},
     "output_type": "execute_result"
    }
   ],
   "source": [
    "df.shape"
   ]
  },
  {
   "cell_type": "markdown",
   "metadata": {},
   "source": [
    "# Find the info of each column "
   ]
  },
  {
   "cell_type": "code",
   "execution_count": 10,
   "metadata": {},
   "outputs": [
    {
     "name": "stdout",
     "output_type": "stream",
     "text": [
      "<class 'pandas.core.frame.DataFrame'>\n",
      "RangeIndex: 1044 entries, 0 to 1043\n",
      "Data columns (total 33 columns):\n",
      " #   Column      Non-Null Count  Dtype \n",
      "---  ------      --------------  ----- \n",
      " 0   school      1044 non-null   object\n",
      " 1   sex         1044 non-null   object\n",
      " 2   age         1044 non-null   int64 \n",
      " 3   address     1044 non-null   object\n",
      " 4   famsize     1044 non-null   object\n",
      " 5   Pstatus     1044 non-null   object\n",
      " 6   Medu        1044 non-null   int64 \n",
      " 7   Fedu        1044 non-null   int64 \n",
      " 8   Mjob        1044 non-null   object\n",
      " 9   Fjob        1044 non-null   object\n",
      " 10  reason      1044 non-null   object\n",
      " 11  guardian    1044 non-null   object\n",
      " 12  traveltime  1044 non-null   int64 \n",
      " 13  studytime   1044 non-null   int64 \n",
      " 14  failures    1044 non-null   int64 \n",
      " 15  schoolsup   1044 non-null   object\n",
      " 16  famsup      1044 non-null   object\n",
      " 17  paid        1044 non-null   object\n",
      " 18  activities  1044 non-null   object\n",
      " 19  nursery     1044 non-null   object\n",
      " 20  higher      1044 non-null   object\n",
      " 21  internet    1044 non-null   object\n",
      " 22  romantic    1044 non-null   object\n",
      " 23  famrel      1044 non-null   int64 \n",
      " 24  freetime    1044 non-null   int64 \n",
      " 25  goout       1044 non-null   int64 \n",
      " 26  Dalc        1044 non-null   int64 \n",
      " 27  Walc        1044 non-null   int64 \n",
      " 28  health      1044 non-null   int64 \n",
      " 29  absences    1044 non-null   int64 \n",
      " 30  G1          1044 non-null   int64 \n",
      " 31  G2          1044 non-null   int64 \n",
      " 32  G3          1044 non-null   int64 \n",
      "dtypes: int64(16), object(17)\n",
      "memory usage: 269.3+ KB\n"
     ]
    }
   ],
   "source": [
    "info=df.info()\n"
   ]
  },
  {
   "cell_type": "markdown",
   "metadata": {},
   "source": [
    "# Total number of null values in dataset "
   ]
  },
  {
   "cell_type": "code",
   "execution_count": 11,
   "metadata": {},
   "outputs": [
    {
     "name": "stdout",
     "output_type": "stream",
     "text": [
      "total missing values: 0\n"
     ]
    }
   ],
   "source": [
    "print(\"total missing values:\",sum(df.isnull().sum()))"
   ]
  },
  {
   "cell_type": "markdown",
   "metadata": {},
   "source": [
    "# Descriptive Statistics."
   ]
  },
  {
   "cell_type": "code",
   "execution_count": 12,
   "metadata": {},
   "outputs": [
    {
     "data": {
      "text/html": [
       "<div>\n",
       "<style scoped>\n",
       "    .dataframe tbody tr th:only-of-type {\n",
       "        vertical-align: middle;\n",
       "    }\n",
       "\n",
       "    .dataframe tbody tr th {\n",
       "        vertical-align: top;\n",
       "    }\n",
       "\n",
       "    .dataframe thead th {\n",
       "        text-align: right;\n",
       "    }\n",
       "</style>\n",
       "<table border=\"1\" class=\"dataframe\">\n",
       "  <thead>\n",
       "    <tr style=\"text-align: right;\">\n",
       "      <th></th>\n",
       "      <th>age</th>\n",
       "      <th>Medu</th>\n",
       "      <th>Fedu</th>\n",
       "      <th>traveltime</th>\n",
       "      <th>studytime</th>\n",
       "      <th>failures</th>\n",
       "      <th>famrel</th>\n",
       "      <th>freetime</th>\n",
       "      <th>goout</th>\n",
       "      <th>Dalc</th>\n",
       "      <th>Walc</th>\n",
       "      <th>health</th>\n",
       "      <th>absences</th>\n",
       "      <th>G1</th>\n",
       "      <th>G2</th>\n",
       "      <th>G3</th>\n",
       "    </tr>\n",
       "  </thead>\n",
       "  <tbody>\n",
       "    <tr>\n",
       "      <th>count</th>\n",
       "      <td>1044.000000</td>\n",
       "      <td>1044.000000</td>\n",
       "      <td>1044.000000</td>\n",
       "      <td>1044.000000</td>\n",
       "      <td>1044.000000</td>\n",
       "      <td>1044.000000</td>\n",
       "      <td>1044.000000</td>\n",
       "      <td>1044.000000</td>\n",
       "      <td>1044.000000</td>\n",
       "      <td>1044.000000</td>\n",
       "      <td>1044.000000</td>\n",
       "      <td>1044.000000</td>\n",
       "      <td>1044.000000</td>\n",
       "      <td>1044.000000</td>\n",
       "      <td>1044.000000</td>\n",
       "      <td>1044.000000</td>\n",
       "    </tr>\n",
       "    <tr>\n",
       "      <th>mean</th>\n",
       "      <td>16.726054</td>\n",
       "      <td>2.603448</td>\n",
       "      <td>2.387931</td>\n",
       "      <td>1.522989</td>\n",
       "      <td>1.970307</td>\n",
       "      <td>0.264368</td>\n",
       "      <td>3.935824</td>\n",
       "      <td>3.201149</td>\n",
       "      <td>3.156130</td>\n",
       "      <td>1.494253</td>\n",
       "      <td>2.284483</td>\n",
       "      <td>3.543103</td>\n",
       "      <td>4.434866</td>\n",
       "      <td>11.213602</td>\n",
       "      <td>11.246169</td>\n",
       "      <td>11.341954</td>\n",
       "    </tr>\n",
       "    <tr>\n",
       "      <th>std</th>\n",
       "      <td>1.239975</td>\n",
       "      <td>1.124907</td>\n",
       "      <td>1.099938</td>\n",
       "      <td>0.731727</td>\n",
       "      <td>0.834353</td>\n",
       "      <td>0.656142</td>\n",
       "      <td>0.933401</td>\n",
       "      <td>1.031507</td>\n",
       "      <td>1.152575</td>\n",
       "      <td>0.911714</td>\n",
       "      <td>1.285105</td>\n",
       "      <td>1.424703</td>\n",
       "      <td>6.210017</td>\n",
       "      <td>2.983394</td>\n",
       "      <td>3.285071</td>\n",
       "      <td>3.864796</td>\n",
       "    </tr>\n",
       "    <tr>\n",
       "      <th>min</th>\n",
       "      <td>15.000000</td>\n",
       "      <td>0.000000</td>\n",
       "      <td>0.000000</td>\n",
       "      <td>1.000000</td>\n",
       "      <td>1.000000</td>\n",
       "      <td>0.000000</td>\n",
       "      <td>1.000000</td>\n",
       "      <td>1.000000</td>\n",
       "      <td>1.000000</td>\n",
       "      <td>1.000000</td>\n",
       "      <td>1.000000</td>\n",
       "      <td>1.000000</td>\n",
       "      <td>0.000000</td>\n",
       "      <td>0.000000</td>\n",
       "      <td>0.000000</td>\n",
       "      <td>0.000000</td>\n",
       "    </tr>\n",
       "    <tr>\n",
       "      <th>25%</th>\n",
       "      <td>16.000000</td>\n",
       "      <td>2.000000</td>\n",
       "      <td>1.000000</td>\n",
       "      <td>1.000000</td>\n",
       "      <td>1.000000</td>\n",
       "      <td>0.000000</td>\n",
       "      <td>4.000000</td>\n",
       "      <td>3.000000</td>\n",
       "      <td>2.000000</td>\n",
       "      <td>1.000000</td>\n",
       "      <td>1.000000</td>\n",
       "      <td>3.000000</td>\n",
       "      <td>0.000000</td>\n",
       "      <td>9.000000</td>\n",
       "      <td>9.000000</td>\n",
       "      <td>10.000000</td>\n",
       "    </tr>\n",
       "    <tr>\n",
       "      <th>50%</th>\n",
       "      <td>17.000000</td>\n",
       "      <td>3.000000</td>\n",
       "      <td>2.000000</td>\n",
       "      <td>1.000000</td>\n",
       "      <td>2.000000</td>\n",
       "      <td>0.000000</td>\n",
       "      <td>4.000000</td>\n",
       "      <td>3.000000</td>\n",
       "      <td>3.000000</td>\n",
       "      <td>1.000000</td>\n",
       "      <td>2.000000</td>\n",
       "      <td>4.000000</td>\n",
       "      <td>2.000000</td>\n",
       "      <td>11.000000</td>\n",
       "      <td>11.000000</td>\n",
       "      <td>11.000000</td>\n",
       "    </tr>\n",
       "    <tr>\n",
       "      <th>75%</th>\n",
       "      <td>18.000000</td>\n",
       "      <td>4.000000</td>\n",
       "      <td>3.000000</td>\n",
       "      <td>2.000000</td>\n",
       "      <td>2.000000</td>\n",
       "      <td>0.000000</td>\n",
       "      <td>5.000000</td>\n",
       "      <td>4.000000</td>\n",
       "      <td>4.000000</td>\n",
       "      <td>2.000000</td>\n",
       "      <td>3.000000</td>\n",
       "      <td>5.000000</td>\n",
       "      <td>6.000000</td>\n",
       "      <td>13.000000</td>\n",
       "      <td>13.000000</td>\n",
       "      <td>14.000000</td>\n",
       "    </tr>\n",
       "    <tr>\n",
       "      <th>max</th>\n",
       "      <td>22.000000</td>\n",
       "      <td>4.000000</td>\n",
       "      <td>4.000000</td>\n",
       "      <td>4.000000</td>\n",
       "      <td>4.000000</td>\n",
       "      <td>3.000000</td>\n",
       "      <td>5.000000</td>\n",
       "      <td>5.000000</td>\n",
       "      <td>5.000000</td>\n",
       "      <td>5.000000</td>\n",
       "      <td>5.000000</td>\n",
       "      <td>5.000000</td>\n",
       "      <td>75.000000</td>\n",
       "      <td>19.000000</td>\n",
       "      <td>19.000000</td>\n",
       "      <td>20.000000</td>\n",
       "    </tr>\n",
       "  </tbody>\n",
       "</table>\n",
       "</div>"
      ],
      "text/plain": [
       "               age         Medu         Fedu   traveltime    studytime  \\\n",
       "count  1044.000000  1044.000000  1044.000000  1044.000000  1044.000000   \n",
       "mean     16.726054     2.603448     2.387931     1.522989     1.970307   \n",
       "std       1.239975     1.124907     1.099938     0.731727     0.834353   \n",
       "min      15.000000     0.000000     0.000000     1.000000     1.000000   \n",
       "25%      16.000000     2.000000     1.000000     1.000000     1.000000   \n",
       "50%      17.000000     3.000000     2.000000     1.000000     2.000000   \n",
       "75%      18.000000     4.000000     3.000000     2.000000     2.000000   \n",
       "max      22.000000     4.000000     4.000000     4.000000     4.000000   \n",
       "\n",
       "          failures       famrel     freetime        goout         Dalc  \\\n",
       "count  1044.000000  1044.000000  1044.000000  1044.000000  1044.000000   \n",
       "mean      0.264368     3.935824     3.201149     3.156130     1.494253   \n",
       "std       0.656142     0.933401     1.031507     1.152575     0.911714   \n",
       "min       0.000000     1.000000     1.000000     1.000000     1.000000   \n",
       "25%       0.000000     4.000000     3.000000     2.000000     1.000000   \n",
       "50%       0.000000     4.000000     3.000000     3.000000     1.000000   \n",
       "75%       0.000000     5.000000     4.000000     4.000000     2.000000   \n",
       "max       3.000000     5.000000     5.000000     5.000000     5.000000   \n",
       "\n",
       "              Walc       health     absences           G1           G2  \\\n",
       "count  1044.000000  1044.000000  1044.000000  1044.000000  1044.000000   \n",
       "mean      2.284483     3.543103     4.434866    11.213602    11.246169   \n",
       "std       1.285105     1.424703     6.210017     2.983394     3.285071   \n",
       "min       1.000000     1.000000     0.000000     0.000000     0.000000   \n",
       "25%       1.000000     3.000000     0.000000     9.000000     9.000000   \n",
       "50%       2.000000     4.000000     2.000000    11.000000    11.000000   \n",
       "75%       3.000000     5.000000     6.000000    13.000000    13.000000   \n",
       "max       5.000000     5.000000    75.000000    19.000000    19.000000   \n",
       "\n",
       "                G3  \n",
       "count  1044.000000  \n",
       "mean     11.341954  \n",
       "std       3.864796  \n",
       "min       0.000000  \n",
       "25%      10.000000  \n",
       "50%      11.000000  \n",
       "75%      14.000000  \n",
       "max      20.000000  "
      ]
     },
     "execution_count": 12,
     "metadata": {},
     "output_type": "execute_result"
    }
   ],
   "source": [
    "summary=df.describe()\n",
    "summary.to_csv(\"C:/Users/komal/Downloads/grp_1_outputs/export_dataframe.csv\")\n",
    "summary"
   ]
  },
  {
   "cell_type": "markdown",
   "metadata": {},
   "source": [
    "# REMOVE OUTLIERS"
   ]
  },
  {
   "cell_type": "code",
   "execution_count": 13,
   "metadata": {},
   "outputs": [],
   "source": [
    "\n",
    "\n",
    "def remove_outliers(df):\n",
    "    \n",
    "    attributes = ['absences', 'G1', 'G2', 'G3', 'age']\n",
    "    \n",
    "    for i in attributes:\n",
    "        df = df[np.abs(df[i]-df[i].mean()) <= (3*df[i].std())]\n",
    "        \n",
    "    return df"
   ]
  },
  {
   "cell_type": "code",
   "execution_count": 14,
   "metadata": {},
   "outputs": [
    {
     "data": {
      "text/plain": [
       "971"
      ]
     },
     "execution_count": 14,
     "metadata": {},
     "output_type": "execute_result"
    }
   ],
   "source": [
    "df = remove_outliers(df)\n",
    "len(df)"
   ]
  },
  {
   "cell_type": "code",
   "execution_count": 15,
   "metadata": {},
   "outputs": [
    {
     "data": {
      "image/png": "[encoded data removed]",
      "text/plain": [
       "<Figure size 432x288 with 1 Axes>"
      ]
     },
     "metadata": {
      "needs_background": "light"
     },
     "output_type": "display_data"
    },
    {
     "data": {
      "image/png": "[encoded data removed]",
      "text/plain": [
       "<Figure size 432x288 with 1 Axes>"
      ]
     },
     "metadata": {
      "needs_background": "light"
     },
     "output_type": "display_data"
    }
   ],
   "source": [
    "df[['absences', 'G1', 'G2', 'G3', 'age']].plot(kind='box');\n",
    "df[['absences', 'G1', 'G2', 'G3', 'age']].plot(kind='box',showfliers=False);"
   ]
  },
  {
   "cell_type": "markdown",
   "metadata": {},
   "source": [
    "# Histogram of all the categorical variables \n"
   ]
  },
  {
   "cell_type": "code",
   "execution_count": 16,
   "metadata": {
    "scrolled": true
   },
   "outputs": [
    {
     "data": {
      "image/png": "[encoded data removed]",
      "text/plain": [
       "<Figure size 1440x720 with 9 Axes>"
      ]
     },
     "metadata": {
      "needs_background": "light"
     },
     "output_type": "display_data"
    }
   ],
   "source": [
    "\n",
    "import numpy as np\n",
    "import seaborn as sns \n",
    "import matplotlib.pyplot as plt\n",
    "\n",
    "features = ['Medu','Fedu','traveltime','studytime','freetime','goout','Dalc','Walc']\n",
    "df[features].hist(figsize=(20,10),color=\"grey\",ec=\"red\");\n",
    "\n",
    "\n"
   ]
  },
  {
   "cell_type": "markdown",
   "metadata": {},
   "source": [
    "#  Factors effecting on Final Grades\n"
   ]
  },
  {
   "cell_type": "code",
   "execution_count": 17,
   "metadata": {},
   "outputs": [
    {
     "data": {
      "image/png": "[encoded data removed]",
      "text/plain": [
       "<Figure size 432x288 with 1 Axes>"
      ]
     },
     "metadata": {
      "needs_background": "light"
     },
     "output_type": "display_data"
    }
   ],
   "source": [
    "## alcohol consumption in weekdays\n",
    "sns.lineplot(x='G3',y='Dalc',data=df,linestyle='dashed',color='red');\n",
    "\n"
   ]
  },
  {
   "cell_type": "code",
   "execution_count": 18,
   "metadata": {},
   "outputs": [
    {
     "data": {
      "image/png": "[encoded data removed]",
      "text/plain": [
       "<Figure size 432x288 with 1 Axes>"
      ]
     },
     "metadata": {
      "needs_background": "light"
     },
     "output_type": "display_data"
    }
   ],
   "source": [
    "## alcohol consumption in weekends\n",
    "sns.lineplot(x='G3',y='Walc',data=df,color='black');"
   ]
  },
  {
   "cell_type": "code",
   "execution_count": 19,
   "metadata": {
    "scrolled": true
   },
   "outputs": [
    {
     "data": {
      "text/plain": [
       "<AxesSubplot:xlabel='absences', ylabel='G3'>"
      ]
     },
     "execution_count": 19,
     "metadata": {},
     "output_type": "execute_result"
    },
    {
     "data": {
      "image/png": "[encoded data removed]",
      "text/plain": [
       "<Figure size 432x288 with 1 Axes>"
      ]
     },
     "metadata": {
      "needs_background": "light"
     },
     "output_type": "display_data"
    }
   ],
   "source": [
    "## to check the effect of absences in grades G3\n",
    "\n",
    "sns.lineplot(x='absences',y='G3',data=df)"
   ]
  },
  {
   "cell_type": "code",
   "execution_count": 20,
   "metadata": {},
   "outputs": [
    {
     "data": {
      "text/plain": [
       "<AxesSubplot:xlabel='traveltime', ylabel='G3'>"
      ]
     },
     "execution_count": 20,
     "metadata": {},
     "output_type": "execute_result"
    },
    {
     "data": {
      "image/png": "[encoded data removed]",
      "text/plain": [
       "<Figure size 432x288 with 1 Axes>"
      ]
     },
     "metadata": {
      "needs_background": "light"
     },
     "output_type": "display_data"
    }
   ],
   "source": [
    "sns.lineplot(x='traveltime',y='G3',data=df,color=\"pink\")\n",
    "\n",
    "## It is shown from the line plot that initially student spend less time in travelling and more in study on an average over the week. we can see that there is a drastic drop in the study time further to 3 hrs of travel time. so the reason can be effective time management by students."
   ]
  },
  {
   "cell_type": "code",
   "execution_count": 21,
   "metadata": {},
   "outputs": [
    {
     "data": {
      "text/plain": [
       "<AxesSubplot:xlabel='G3', ylabel='studytime'>"
      ]
     },
     "execution_count": 21,
     "metadata": {},
     "output_type": "execute_result"
    },
    {
     "data": {
      "image/png": "[encoded data removed]",
      "text/plain": [
       "<Figure size 432x288 with 1 Axes>"
      ]
     },
     "metadata": {
      "needs_background": "light"
     },
     "output_type": "display_data"
    }
   ],
   "source": [
    "sns.lineplot(x='G3',y='studytime',data=df)\n",
    "\n",
    "## Initially when student go less outside study time has seen a great increment but as the out time increases study time has decreased from 2.1 to 1.8(approximately)"
   ]
  },
  {
   "cell_type": "code",
   "execution_count": 22,
   "metadata": {},
   "outputs": [
    {
     "data": {
      "image/png": "[encoded data removed]",
      "text/plain": [
       "<Figure size 432x288 with 1 Axes>"
      ]
     },
     "metadata": {
      "needs_background": "light"
     },
     "output_type": "display_data"
    }
   ],
   "source": [
    "## to check that which school get higher grades in finals.\n",
    "\n",
    "import matplotlib.pyplot as plt\n",
    "sns.countplot(x='G3',data=df,hue='school',palette='Set3_r')\n",
    "plt.tight_layout()"
   ]
  },
  {
   "cell_type": "code",
   "execution_count": 23,
   "metadata": {},
   "outputs": [
    {
     "data": {
      "image/png": "[encoded data removed]",
      "text/plain": [
       "<Figure size 432x288 with 1 Axes>"
      ]
     },
     "metadata": {
      "needs_background": "light"
     },
     "output_type": "display_data"
    }
   ],
   "source": [
    "## which sex cosume more alcohal in week days \n",
    "\n",
    "sns.countplot(x='Dalc',data=df,hue='sex',palette='Set1_r')\n",
    "plt.tight_layout()"
   ]
  },
  {
   "cell_type": "code",
   "execution_count": 24,
   "metadata": {},
   "outputs": [
    {
     "data": {
      "image/png": "[encoded data removed]",
      "text/plain": [
       "<Figure size 720x432 with 2 Axes>"
      ]
     },
     "metadata": {
      "needs_background": "light"
     },
     "output_type": "display_data"
    }
   ],
   "source": [
    "## here i plot 2 bar graphs one for mother job with family support and another one is father job with family support.\n",
    "## enumerate is used to display item count \n",
    "##That how much a student recieve family support from parents side \n",
    "cols=['Mjob','Fjob']\n",
    "fig=plt.figure()\n",
    "for i,col in enumerate(cols):\n",
    "    fig.add_subplot(1,2,i+1)\n",
    "    fig.set_size_inches(10,6)\n",
    "    sns.countplot(x=col,data=df,hue='famsup',palette='Set2_r')\n",
    "    plt.tight_layout()"
   ]
  },
  {
   "cell_type": "markdown",
   "metadata": {},
   "source": [
    "# Correlation matrix"
   ]
  },
  {
   "cell_type": "code",
   "execution_count": 25,
   "metadata": {},
   "outputs": [
    {
     "data": {
      "text/plain": [
       "<AxesSubplot:>"
      ]
     },
     "execution_count": 25,
     "metadata": {},
     "output_type": "execute_result"
    },
    {
     "data": {
      "image/png": "[encoded data removed]",
      "text/plain": [
       "<Figure size 1080x504 with 2 Axes>"
      ]
     },
     "metadata": {
      "needs_background": "light"
     },
     "output_type": "display_data"
    }
   ],
   "source": [
    "plt.figure(figsize=(15,7))\n",
    "sns.heatmap(df.corr(),annot=True)"
   ]
  },
  {
   "cell_type": "code",
   "execution_count": 26,
   "metadata": {},
   "outputs": [
    {
     "name": "stdout",
     "output_type": "stream",
     "text": [
      "Requirement already satisfied: mlxtend in c:\\users\\komal\\anaconda3\\lib\\site-packages (0.19.0)\n",
      "Requirement already satisfied: numpy>=1.16.2 in c:\\users\\komal\\anaconda3\\lib\\site-packages (from mlxtend) (1.19.2)\n",
      "Requirement already satisfied: pandas>=0.24.2 in c:\\users\\komal\\anaconda3\\lib\\site-packages (from mlxtend) (1.1.3)\n",
      "Requirement already satisfied: scipy>=1.2.1 in c:\\users\\komal\\anaconda3\\lib\\site-packages (from mlxtend) (1.5.2)\n",
      "Requirement already satisfied: joblib>=0.13.2 in c:\\users\\komal\\anaconda3\\lib\\site-packages (from mlxtend) (0.17.0)\n",
      "Requirement already satisfied: matplotlib>=3.0.0 in c:\\users\\komal\\anaconda3\\lib\\site-packages (from mlxtend) (3.3.2)\n",
      "Requirement already satisfied: scikit-learn>=0.20.3 in c:\\users\\komal\\anaconda3\\lib\\site-packages (from mlxtend) (0.23.2)\n",
      "Requirement already satisfied: setuptools in c:\\users\\komal\\anaconda3\\lib\\site-packages (from mlxtend) (50.3.1.post20201107)\n",
      "Requirement already satisfied: python-dateutil>=2.7.3 in c:\\users\\komal\\anaconda3\\lib\\site-packages (from pandas>=0.24.2->mlxtend) (2.8.1)\n",
      "Requirement already satisfied: pytz>=2017.2 in c:\\users\\komal\\anaconda3\\lib\\site-packages (from pandas>=0.24.2->mlxtend) (2020.1)\n",
      "Requirement already satisfied: pillow>=6.2.0 in c:\\users\\komal\\anaconda3\\lib\\site-packages (from matplotlib>=3.0.0->mlxtend) (8.0.1)\n",
      "Requirement already satisfied: certifi>=2020.06.20 in c:\\users\\komal\\anaconda3\\lib\\site-packages (from matplotlib>=3.0.0->mlxtend) (2020.6.20)\n",
      "Requirement already satisfied: pyparsing!=2.0.4,!=2.1.2,!=2.1.6,>=2.0.3 in c:\\users\\komal\\anaconda3\\lib\\site-packages (from matplotlib>=3.0.0->mlxtend) (2.4.7)\n",
      "Requirement already satisfied: cycler>=0.10 in c:\\users\\komal\\anaconda3\\lib\\site-packages (from matplotlib>=3.0.0->mlxtend) (0.10.0)\n",
      "Requirement already satisfied: kiwisolver>=1.0.1 in c:\\users\\komal\\anaconda3\\lib\\site-packages (from matplotlib>=3.0.0->mlxtend) (1.3.0)\n",
      "Requirement already satisfied: threadpoolctl>=2.0.0 in c:\\users\\komal\\anaconda3\\lib\\site-packages (from scikit-learn>=0.20.3->mlxtend) (2.1.0)\n",
      "Requirement already satisfied: six>=1.5 in c:\\users\\komal\\anaconda3\\lib\\site-packages (from python-dateutil>=2.7.3->pandas>=0.24.2->mlxtend) (1.15.0)\n"
     ]
    }
   ],
   "source": [
    "!pip install mlxtend"
   ]
  },
  {
   "cell_type": "markdown",
   "metadata": {},
   "source": [
    "# FORWARD ELIMINATION"
   ]
  },
  {
   "cell_type": "code",
   "execution_count": 27,
   "metadata": {},
   "outputs": [],
   "source": [
    "\n",
    "from sklearn.metrics import accuracy_score as acc\n",
    "from mlxtend.feature_selection import SequentialFeatureSelector as sfs\n",
    "from sklearn.linear_model import LinearRegression"
   ]
  },
  {
   "cell_type": "code",
   "execution_count": 28,
   "metadata": {},
   "outputs": [],
   "source": [
    "x=df[['age','absences','G1','G2']]\n",
    "y=df['G3']\n"
   ]
  },
  {
   "cell_type": "code",
   "execution_count": 29,
   "metadata": {},
   "outputs": [],
   "source": [
    "sfs = sfs(LinearRegression(),k_features=3,forward=True,floating=False,scoring = 'r2',cv = 0)\n",
    "\n",
    "## k_features is the number of features to be selected.\n",
    "## Then for the Forward elimination, we use forward =true and floating =false.\n",
    "## The scoring argument is for evaluation criteria to be used. or regression problems, there is only r2 score in default implementation."
   ]
  },
  {
   "cell_type": "code",
   "execution_count": 30,
   "metadata": {},
   "outputs": [
    {
     "data": {
      "text/plain": [
       "SequentialFeatureSelector(cv=0, estimator=LinearRegression(), k_features=3,\n",
       "                          scoring='r2')"
      ]
     },
     "execution_count": 30,
     "metadata": {},
     "output_type": "execute_result"
    }
   ],
   "source": [
    "## we will apply this model to fit the data.\n",
    "sfs.fit(x,y)"
   ]
  },
  {
   "cell_type": "code",
   "execution_count": 31,
   "metadata": {},
   "outputs": [
    {
     "data": {
      "text/plain": [
       "('age', 'G1', 'G2')"
      ]
     },
     "execution_count": 31,
     "metadata": {},
     "output_type": "execute_result"
    }
   ],
   "source": [
    "## we can see which are the 3 features that show a significant change in the model.\n",
    "sfs.k_feature_names_"
   ]
  },
  {
   "cell_type": "code",
   "execution_count": 32,
   "metadata": {},
   "outputs": [
    {
     "data": {
      "text/plain": [
       "0.9033245569405237"
      ]
     },
     "execution_count": 32,
     "metadata": {},
     "output_type": "execute_result"
    }
   ],
   "source": [
    "## see the accuracy for these 3 best features.\n",
    "\n",
    "\n",
    "sfs.k_score_\n"
   ]
  },
  {
   "cell_type": "markdown",
   "metadata": {},
   "source": [
    "# SPLITTING DATASET INTO TRAINING AND TESTING "
   ]
  },
  {
   "cell_type": "code",
   "execution_count": 33,
   "metadata": {},
   "outputs": [],
   "source": [
    "\n",
    "from sklearn.model_selection import train_test_split\n",
    "x=df[['G1', 'G2','age']].values\n",
    "y=df['G3'].values\n"
   ]
  },
  {
   "cell_type": "code",
   "execution_count": 34,
   "metadata": {},
   "outputs": [],
   "source": [
    "x_train,x_test,y_train,y_test=train_test_split(x,y,test_size=0.6,random_state=40)"
   ]
  },
  {
   "cell_type": "markdown",
   "metadata": {},
   "source": [
    "# LINEAR REGRESSION "
   ]
  },
  {
   "cell_type": "code",
   "execution_count": 35,
   "metadata": {},
   "outputs": [],
   "source": [
    "from sklearn.linear_model import LinearRegression"
   ]
  },
  {
   "cell_type": "code",
   "execution_count": 36,
   "metadata": {},
   "outputs": [],
   "source": [
    "Lr = LinearRegression()"
   ]
  },
  {
   "cell_type": "code",
   "execution_count": 37,
   "metadata": {},
   "outputs": [
    {
     "data": {
      "text/plain": [
       "LinearRegression()"
      ]
     },
     "execution_count": 37,
     "metadata": {},
     "output_type": "execute_result"
    }
   ],
   "source": [
    "Lr.fit(x_train,y_train)"
   ]
  },
  {
   "cell_type": "code",
   "execution_count": 38,
   "metadata": {},
   "outputs": [
    {
     "name": "stdout",
     "output_type": "stream",
     "text": [
      "0.904818304689573\n"
     ]
    }
   ],
   "source": [
    "## performance of train set of linear model \n",
    "\n",
    "Acc_Lr= Lr.score(x_test,y_test)\n",
    "print(Acc_Lr)\n"
   ]
  },
  {
   "cell_type": "code",
   "execution_count": 39,
   "metadata": {},
   "outputs": [
    {
     "name": "stdout",
     "output_type": "stream",
     "text": [
      "Intercept for Linear model: -0.854251255353077\n",
      "1 Coefficient :0.16403260169023456\n",
      "2 Coefficient :0.8103398104653706\n",
      "3 Coefficient :0.09473139508300513\n"
     ]
    }
   ],
   "source": [
    "print(\"Intercept for Linear model: \"+ str(Lr.intercept_))\n",
    "for i in range(3):\n",
    "    print(str(i+1) + \" Coefficient :\" + str(Lr.coef_[i]))\n",
    "    \n"
   ]
  },
  {
   "cell_type": "code",
   "execution_count": 40,
   "metadata": {},
   "outputs": [
    {
     "data": {
      "text/plain": [
       "array([10.92270318, 11.61288141,  9.45623296, 15.11300465,  9.43080278,\n",
       "       11.73304299, 14.75089162,  9.81834599, 14.63073004,  8.36169897,\n",
       "        6.74101935, 10.75867058, 13.00022722, 13.16425982, 13.49232503,\n",
       "       17.87208928,  8.45643036, 13.39759363, 13.25899122, 16.18210845,\n",
       "       17.74331007,  9.80972836, 11.5435802 , 13.94055181,  6.60241693,\n",
       "       16.44087245, 13.130212  , 11.6383116 , 18.9157629 ,  8.38712916,\n",
       "       14.04390084, 18.13085328,  9.45623296, 12.25918862, 13.51775521,\n",
       "        8.38712916, 17.06174947, 15.63053264,  6.60241693, 12.94074921,\n",
       "       13.35372261, 11.44884881, 10.07710998, 18.13085328,  9.10273757,\n",
       "       11.8023442 , 15.82861306, 12.35392001,  9.50010398,  8.03363376,\n",
       "       12.68198522, 15.20773604, 15.11300465, 15.37176864, 11.5435802 ,\n",
       "        9.38693176, 13.32829242,  8.41255935, 18.22558467, 15.44106985,\n",
       "       12.25918862, 15.01827325,  9.55096436,  8.80992576, 14.04390084,\n",
       "       11.1207836 , 13.42302382, 12.5433828 , 17.08717966,  5.79207712,\n",
       "       14.20793344, 10.73324039, 15.46650004, 11.6383116 ,  9.78429817,\n",
       "       17.96682068, 13.23356103, 13.42302382,  9.68956677,  9.71499696,\n",
       "       12.35392001, 11.47427899,  9.52553417, 12.09515602, 14.30266484,\n",
       "        6.53311573, 18.20015448, 12.42322122, 11.2848162 ,  9.26677017,\n",
       "       12.40478039, 12.28461881, 15.04370344,  9.78429817, 12.90549583,\n",
       "       13.68178782, 15.20773604, 10.47447639,  9.17203878,  9.12816776,\n",
       "       15.92334446,  9.85359937,  8.80992576, 10.24114259, 15.46650004,\n",
       "       11.6383116 , 12.44865141, 13.77651921, 11.56901039, 10.47447639,\n",
       "       10.40517519, 12.51795261,  9.59483538, 10.40517519, 16.27683985,\n",
       "       11.99180699,  9.36150157, 15.20773604,  7.83555334, 11.1207836 ,\n",
       "       16.08737706,  8.97395836, 10.59463798, 16.32071087, 14.06933103,\n",
       "        7.83555334, 12.90549583, 10.40517519, 10.92270318,  9.59483538,\n",
       "        6.21487372, 15.99264566, 11.3795476 ,  9.78429817, 11.7076128 ,\n",
       "       14.04390084, 15.27703725,  8.78449557,  7.74082195, 11.40497779,\n",
       "       15.04370344, 10.00780878, 14.30266484,  5.62804452, 14.30266484,\n",
       "       12.42322122, 11.31024639, 12.18988741, 14.04390084, 10.82797179,\n",
       "       11.8023442 , 15.01827325, 16.27683985, 12.44865141,  7.57678935,\n",
       "        5.88680852,  8.64589315, 13.97459963, 14.32809502, 13.58705642,\n",
       "       12.42322122, 11.47427899,  8.97395836, 15.20773604, 10.24114259,\n",
       "       11.3795476 , 11.3795476 , 14.30266484, 14.30266484, 10.49990658,\n",
       "       12.61268401, 12.28461881,  6.60241693, 17.29508328,  9.43080278,\n",
       "       13.42302382, 13.06952843,  9.59483538, 10.31044379, 10.14641119,\n",
       "       10.68936937, 13.16425982, 11.215515  , 11.77691401,  7.57678935,\n",
       "        5.53331313, 16.44087245, 12.51795261, 10.7927184 , 10.40517519,\n",
       "        5.88680852,  8.85379677, 10.956751  , 11.40497779,  9.33607138,\n",
       "       14.37196604,  9.36150157,  8.87922696, 11.56901039, 10.638509  ,\n",
       "       10.26657277,  9.85359937,  7.48205795, 14.20793344, 13.65635763,\n",
       "       16.01807585,  7.64609055, 12.61268401, 10.31044379, 15.37176864,\n",
       "       14.04390084, 10.26657277,  6.83575074, 14.30266484, 14.65616023,\n",
       "       13.32829242, 12.28461881,  8.48186055, 16.25140966, 12.09515602,\n",
       "        9.59483538, 12.35392001, 11.73304299, 10.85340197, 11.1207836 ,\n",
       "       11.5435802 , 12.93092601, 12.3793502 , 12.42322122, 14.94897204,\n",
       "       10.40517519, 13.39759363,  8.80992576,  9.45623296, 14.23336363,\n",
       "        9.78429817, 13.16425982,  9.29220036, 10.33587398, 10.89727299,\n",
       "       14.49212763, 10.59463798, 12.87144801, 14.65616023, 12.7074154 ,\n",
       "       11.6383116 ,  8.67994097,  8.55116176, 12.3793502 ,  7.81012315,\n",
       "       11.24094519, 11.215515  , 15.44106985, 13.16425982,  9.17203878,\n",
       "       12.18988741, 10.59463798, 13.39759363, 13.49232503, 11.00761138,\n",
       "        9.50010398, 16.25140966,  8.55116176,  7.57678935, 14.20793344,\n",
       "       10.14641119,  9.59483538, 11.40497779, 14.30266484, 12.51795261,\n",
       "       18.41504746, 11.14621379, 12.51795261, 14.32809502,  9.36150157,\n",
       "       11.73304299, 15.49193023, 14.30266484, 19.1745269 , 11.8716454 ,\n",
       "       13.23356103, 11.792521  , 11.44884881, 11.47427899, 11.2848162 ,\n",
       "       14.56142883, 12.74146322,  9.68956677, 11.40497779, 16.15667827,\n",
       "       10.31044379, 10.17184138,  8.74062455, 17.06174947, 14.53599864,\n",
       "        6.86118093, 14.39739623,  8.48186055, 12.9661794 , 11.47427899,\n",
       "       16.25140966, 17.41524486, 11.2848162 , 13.06952843, 11.49970918,\n",
       "       11.47427899,  9.52553417, 13.06952843, 10.66393918,  7.74082195,\n",
       "        9.71499696, 11.47427899, 12.51795261, 13.06952843, 15.11300465,\n",
       "       15.30246744, 10.75867058, 13.18969001, 13.49232503,  8.78449557,\n",
       "       15.53580125, 11.215515  , 14.13863223, 10.49990658, 12.42322122,\n",
       "        9.36150157, 15.27703725, 10.956751  , 14.49212763, 14.13863223,\n",
       "       10.31044379, 14.04390084, 12.94074921, 14.56142883, 18.55364988,\n",
       "       13.10478181,  9.59483538, 12.09515602, 11.56901039, 12.68198522,\n",
       "       13.32829242, 14.13863223,  8.31782795,  8.57659195, 10.40517519,\n",
       "        9.26677017, 13.32829242, 12.3793502 , 14.13863223, 13.09495862,\n",
       "       18.26945569, 12.18988741,  7.90485455, 15.63053264, 12.90549583,\n",
       "       12.68198522, 12.7074154 , 12.42322122, 12.28461881, 10.49990658,\n",
       "       16.18210845, 14.06933103, 12.02585481, 12.09515602,  9.36150157,\n",
       "       11.31024639, 11.8023442 ,  6.86118093, 18.13085328,  8.62046296,\n",
       "        8.62046296, 16.34614106, 12.6381142 , 15.46650004, 10.52533677,\n",
       "        9.85359937, 12.44865141,  9.85359937,  7.99958594, 11.5435802 ,\n",
       "       14.20793344, 18.13085328,  9.29220036, 12.44865141, 11.215515  ,\n",
       "       10.33587398,  9.74904478, 13.68178782, 11.1207836 ,  9.68956677,\n",
       "       12.18988741, 13.06952843, 10.638509  , 13.32829242,  9.75886798,\n",
       "       14.65616023, 11.47427899,  7.67152074, 11.3795476 , 10.956751  ,\n",
       "       15.63053264, 10.56920779, 11.5435802 , 15.99264566, 11.3795476 ,\n",
       "       14.30266484, 17.15648087, 10.07710998, 10.59463798, 11.215515  ,\n",
       "       12.51795261, 13.81056703, 12.60286081, 10.17184138, 13.39759363,\n",
       "        8.19766637,  9.36150157, 16.25140966, 13.39759363, 11.2848162 ,\n",
       "        9.66413658,  9.68956677, 18.22558467, 11.6383116 , 13.39759363,\n",
       "        8.55116176, 11.31024639, 17.15648087,  9.50010398,  5.53331313,\n",
       "       14.30266484,  8.55116176, 12.18988741, 10.43060538, 13.06952843,\n",
       "       10.49990658, 14.94897204, 16.44087245, 12.09515602, 10.31044379,\n",
       "       13.68178782, 10.92270318, 11.3795476 ,  9.68956677, 13.16425982,\n",
       "       13.35372261, 11.56901039,  7.38732656, 18.38961727,  8.80992576,\n",
       "       15.53580125, 11.2848162 , 14.32809502, 12.74146322, 11.31024639,\n",
       "        9.26677017, 15.53580125, 12.35392001, 10.24114259, 14.13863223,\n",
       "        9.91307738, 11.26637537, 10.11236337, 15.18230585, 14.30266484,\n",
       "        8.80992576,  6.69714833, 12.44865141, 14.32809502, 10.66393918,\n",
       "       10.82797179, 13.49232503, 10.43060538, 15.63053264, 12.09515602,\n",
       "       14.39739623, 12.51795261,  9.78429817, 16.99244826, 12.42322122,\n",
       "       11.3795476 , 10.59463798, 11.47427899,  7.48205795, 11.2848162 ,\n",
       "       11.93112341, 10.31044379, 15.30246744, 12.18988741, 11.1207836 ,\n",
       "       15.11300465,  8.05906395, 11.1207836 , 12.77671661, 10.17184138,\n",
       "       12.87144801, 12.42322122, 13.32829242, 13.25899122, 11.31024639,\n",
       "       11.5435802 , 15.44106985, 12.18988741, 15.18230585, 15.01827325,\n",
       "       17.77735789,  9.43080278, 14.84562302, 16.76893765,  7.48205795,\n",
       "       16.92314706,  9.43080278,  8.68976417, 14.99983242, 10.45603556,\n",
       "       13.23356103, 13.16425982,  8.29239776, 11.1207836 , 11.9565536 ,\n",
       "        9.52553417, 10.59463798, 18.38961727, 16.15667827, 12.44865141,\n",
       "       16.92314706,  9.43080278, 11.5435802 ,  9.52553417, 11.01743458,\n",
       "        9.55096436, 13.51775521, 10.24114259, 12.1205862 ,  8.36169897,\n",
       "        9.78429817, 10.04306216, 11.40497779, 15.34633845, 18.13085328,\n",
       "        8.64589315,  8.19766637, 18.29488588, 13.49232503, 10.31044379,\n",
       "       15.20773604, 14.53599864,  8.62046296, 12.35392001, 15.04370344,\n",
       "       11.215515  , 11.2848162 ,  8.55116176,  9.17203878, 13.16425982,\n",
       "       12.35392001, 11.14621379,  9.52553417, 15.37176864, 12.87144801,\n",
       "       13.35372261, 13.09495862, 15.18230585, 11.31024639, 15.63053264,\n",
       "       16.27683985,  7.64609055, 12.77671661, 10.59463798, 17.25121226,\n",
       "       10.56920779, 15.99264566, 10.59463798, 12.35392001, 11.93112341,\n",
       "       11.7076128 , 10.33587398, 10.85340197, 12.83619462,  9.78429817,\n",
       "       12.02585481, 15.30246744, 11.44884881])"
      ]
     },
     "execution_count": 40,
     "metadata": {},
     "output_type": "execute_result"
    }
   ],
   "source": [
    "## It represents the linear regression line .\n",
    "pred_lm = Lr.predict(x_test)\n",
    "np.array(pred_lm)"
   ]
  },
  {
   "cell_type": "code",
   "execution_count": 41,
   "metadata": {},
   "outputs": [
    {
     "data": {
      "text/html": [
       "<div>\n",
       "<style scoped>\n",
       "    .dataframe tbody tr th:only-of-type {\n",
       "        vertical-align: middle;\n",
       "    }\n",
       "\n",
       "    .dataframe tbody tr th {\n",
       "        vertical-align: top;\n",
       "    }\n",
       "\n",
       "    .dataframe thead th {\n",
       "        text-align: right;\n",
       "    }\n",
       "</style>\n",
       "<table border=\"1\" class=\"dataframe\">\n",
       "  <thead>\n",
       "    <tr style=\"text-align: right;\">\n",
       "      <th></th>\n",
       "      <th>G3_grades</th>\n",
       "      <th>Predicted Values</th>\n",
       "      <th>Error</th>\n",
       "    </tr>\n",
       "  </thead>\n",
       "  <tbody>\n",
       "    <tr>\n",
       "      <th>0</th>\n",
       "      <td>6.0</td>\n",
       "      <td>10.922703</td>\n",
       "      <td>-4.922703</td>\n",
       "    </tr>\n",
       "    <tr>\n",
       "      <th>1</th>\n",
       "      <td>6.0</td>\n",
       "      <td>11.612881</td>\n",
       "      <td>-5.612881</td>\n",
       "    </tr>\n",
       "    <tr>\n",
       "      <th>2</th>\n",
       "      <td>10.0</td>\n",
       "      <td>9.456233</td>\n",
       "      <td>0.543767</td>\n",
       "    </tr>\n",
       "    <tr>\n",
       "      <th>3</th>\n",
       "      <td>15.0</td>\n",
       "      <td>15.113005</td>\n",
       "      <td>-0.113005</td>\n",
       "    </tr>\n",
       "    <tr>\n",
       "      <th>4</th>\n",
       "      <td>10.0</td>\n",
       "      <td>9.430803</td>\n",
       "      <td>0.569197</td>\n",
       "    </tr>\n",
       "    <tr>\n",
       "      <th>5</th>\n",
       "      <td>15.0</td>\n",
       "      <td>11.733043</td>\n",
       "      <td>3.266957</td>\n",
       "    </tr>\n",
       "    <tr>\n",
       "      <th>6</th>\n",
       "      <td>11.0</td>\n",
       "      <td>14.750892</td>\n",
       "      <td>-3.750892</td>\n",
       "    </tr>\n",
       "    <tr>\n",
       "      <th>7</th>\n",
       "      <td>6.0</td>\n",
       "      <td>9.818346</td>\n",
       "      <td>-3.818346</td>\n",
       "    </tr>\n",
       "    <tr>\n",
       "      <th>8</th>\n",
       "      <td>19.0</td>\n",
       "      <td>14.630730</td>\n",
       "      <td>4.369270</td>\n",
       "    </tr>\n",
       "    <tr>\n",
       "      <th>9</th>\n",
       "      <td>15.0</td>\n",
       "      <td>8.361699</td>\n",
       "      <td>6.638301</td>\n",
       "    </tr>\n",
       "  </tbody>\n",
       "</table>\n",
       "</div>"
      ],
      "text/plain": [
       "   G3_grades  Predicted Values     Error\n",
       "0        6.0         10.922703 -4.922703\n",
       "1        6.0         11.612881 -5.612881\n",
       "2       10.0          9.456233  0.543767\n",
       "3       15.0         15.113005 -0.113005\n",
       "4       10.0          9.430803  0.569197\n",
       "5       15.0         11.733043  3.266957\n",
       "6       11.0         14.750892 -3.750892\n",
       "7        6.0          9.818346 -3.818346\n",
       "8       19.0         14.630730  4.369270\n",
       "9       15.0          8.361699  6.638301"
      ]
     },
     "execution_count": 41,
     "metadata": {},
     "output_type": "execute_result"
    }
   ],
   "source": [
    "\n",
    "preco_lr = df['G3']\n",
    "## actual value of G3\n",
    "\n",
    "predict_lr = pd.Series(pred_lm)\n",
    "## predicted value of G3\n",
    "\n",
    "error_lr = preco_lr-predict_lr\n",
    "## actual - predicted is our error\n",
    "data_lr = {'G3_grades':preco_lr,'Predicted Values':predict_lr,'Error':error_lr}\n",
    "## for printing \n",
    "\n",
    "data_prev_lr = pd.DataFrame(data_lr)\n",
    "data_prev_lr.head(10)\n",
    "## just print first 1 values of error "
   ]
  },
  {
   "cell_type": "code",
   "execution_count": 42,
   "metadata": {
    "scrolled": true
   },
   "outputs": [
    {
     "name": "stdout",
     "output_type": "stream",
     "text": [
      "training accuarcy of Linear regression : 0.8993543899900719\n",
      "testing accuarcy of Linear regression : 0.904818304689573\n"
     ]
    }
   ],
   "source": [
    "print(\"training accuarcy of Linear regression :\",Lr.score(x_train,y_train))\n",
    "print(\"testing accuarcy of Linear regression :\",Lr.score(x_test,y_test))"
   ]
  },
  {
   "cell_type": "markdown",
   "metadata": {},
   "source": [
    "# LOGISTIC REGRESSION  "
   ]
  },
  {
   "cell_type": "code",
   "execution_count": 43,
   "metadata": {},
   "outputs": [],
   "source": [
    "import pandas as pd\n",
    "import numpy as np\n",
    "from sklearn.model_selection import train_test_split\n",
    "from sklearn.linear_model import LogisticRegression\n",
    "from sklearn import metrics\n",
    "import matplotlib.pyplot as plt"
   ]
  },
  {
   "cell_type": "code",
   "execution_count": 44,
   "metadata": {},
   "outputs": [],
   "source": [
    "import numpy as np\n",
    "c3 = [df['G3'].between(0, 8), df['G3'].between(8, 20)]\n",
    "values = [0, 1]\n",
    "df['G3_calculate']=np.select(c3, values, 0)\n",
    "\n",
    "c2 = [df['G2'].between(0, 8), df['G2'].between(8, 20)]\n",
    "values = [0, 1]\n",
    "df['G2_calculate']=np.select(c2, values, 0)\n",
    "\n",
    "c1 = [df['G1'].between(0, 8), df['G1'].between(8, 20)]\n",
    "values = [0, 1]\n",
    "df['G1_calculate']=np.select(c1, values, 0)\n",
    "\n",
    "c4 = [df['age'].between(0, 17), df['G1'].between(17,22)]\n",
    "values = [0, 1]\n",
    "df['age_calculate']=np.select(c4, values, 0)\n"
   ]
  },
  {
   "cell_type": "code",
   "execution_count": 45,
   "metadata": {},
   "outputs": [],
   "source": [
    "# get desired columns from complete dataset and  divide response and depend variable\n",
    "\n",
    "targetV = df['G3_calculate']\n",
    "independentV = df[['G1_calculate','G2_calculate','age_calculate']]"
   ]
  },
  {
   "cell_type": "code",
   "execution_count": 46,
   "metadata": {},
   "outputs": [],
   "source": [
    "##divide into test and train set \n",
    "## #split the dataset into training (60%) and testing (40%) sets\n",
    "\n",
    "independentV_train,independentV_test,targetV_train,targetV_test=train_test_split(independentV,targetV,test_size=0.4,random_state=40)"
   ]
  },
  {
   "cell_type": "code",
   "execution_count": 47,
   "metadata": {},
   "outputs": [],
   "source": [
    "## instantiate the model\n",
    "\n",
    "log_regression = LogisticRegression()"
   ]
  },
  {
   "cell_type": "code",
   "execution_count": 48,
   "metadata": {},
   "outputs": [
    {
     "data": {
      "text/plain": [
       "LogisticRegression()"
      ]
     },
     "execution_count": 48,
     "metadata": {},
     "output_type": "execute_result"
    }
   ],
   "source": [
    "## fit response and target variable into logisitc function \n",
    "#fit the model using the training data\n",
    "\n",
    "log_regression.fit(independentV_train,targetV_train)"
   ]
  },
  {
   "cell_type": "code",
   "execution_count": 49,
   "metadata": {},
   "outputs": [
    {
     "data": {
      "text/plain": [
       "array([1, 1, 1, 1, 1, 1, 1, 1, 1, 0, 0, 1, 1, 1, 1, 1, 0, 1, 1, 1, 1, 1,\n",
       "       1, 1, 0, 1, 1, 1, 1, 0, 1, 1, 1, 1, 1, 0, 1, 1, 0, 1, 1, 1, 1, 1,\n",
       "       1, 1, 1, 1, 1, 0, 1, 1, 1, 1, 1, 1, 1, 0, 1, 1, 1, 1, 1, 1, 1, 1,\n",
       "       1, 1, 1, 0, 1, 1, 1, 1, 1, 1, 1, 1, 1, 1, 1, 1, 1, 1, 1, 0, 1, 1,\n",
       "       1, 1, 1, 1, 1, 1, 1, 1, 1, 1, 1, 1, 1, 1, 1, 1, 1, 1, 1, 1, 1, 1,\n",
       "       1, 1, 1, 1, 1, 1, 1, 1, 0, 1, 1, 1, 1, 1, 1, 0, 1, 1, 1, 1, 0, 1,\n",
       "       1, 1, 1, 1, 1, 1, 0, 1, 1, 1, 1, 0, 1, 1, 1, 1, 1, 1, 1, 1, 1, 1,\n",
       "       0, 0, 0, 1, 1, 1, 1, 1, 1, 1, 1, 1, 1, 1, 1, 1, 1, 1, 0, 1, 1, 1,\n",
       "       1, 1, 1, 1, 1, 1, 1, 1, 0, 0, 1, 1, 1, 1, 0, 1, 1, 1, 1, 1, 1, 1,\n",
       "       1, 1, 1, 1, 0, 1, 1, 1, 0, 1, 1, 1, 1, 1, 0, 1, 1, 1, 1, 0, 1, 1,\n",
       "       1, 1, 1, 1, 1, 1, 1, 1, 1, 1, 1, 1, 1, 1, 1, 1, 1, 1, 1, 1, 1, 1,\n",
       "       1, 1, 1, 1, 1, 0, 1, 1, 1, 1, 1, 1, 1, 1, 1, 1, 1, 1, 1, 1, 0, 0,\n",
       "       1, 1, 1, 1, 1, 1, 1, 1, 1, 1, 1, 1, 1, 1, 1, 1, 1, 1, 1, 1, 1, 1,\n",
       "       1, 1, 1, 1, 1, 1, 0, 1, 1, 0, 1, 0, 1, 1, 1, 1, 1, 1, 1, 1, 1, 1,\n",
       "       1, 0, 1, 1, 1, 1, 1, 1, 1, 1, 1, 1, 1, 1, 1, 1, 1, 1, 1, 1, 1, 1,\n",
       "       1, 1, 1, 1, 1, 1, 1, 1, 1, 1, 1, 1, 0, 0, 1, 1, 1, 1, 1, 1, 1, 1,\n",
       "       1, 1, 1, 1, 1, 1, 1, 1, 1, 1, 1, 1, 1, 1, 1, 0, 1, 1, 1, 1, 1, 1,\n",
       "       1, 1, 1, 1, 1, 1, 1, 1, 1, 1, 1, 1, 1, 1, 1])"
      ]
     },
     "execution_count": 49,
     "metadata": {},
     "output_type": "execute_result"
    }
   ],
   "source": [
    "#use model to make predictions on test data\n",
    "targetV_pred = log_regression.predict(independentV_test)\n",
    "targetV_pred"
   ]
  },
  {
   "cell_type": "code",
   "execution_count": 50,
   "metadata": {},
   "outputs": [],
   "source": [
    "from sklearn import metrics\n",
    "from sklearn.metrics import confusion_matrix\n"
   ]
  },
  {
   "cell_type": "code",
   "execution_count": 51,
   "metadata": {},
   "outputs": [
    {
     "data": {
      "text/plain": [
       "array([[ 31,  16],\n",
       "       [  6, 336]], dtype=int64)"
      ]
     },
     "execution_count": 51,
     "metadata": {},
     "output_type": "execute_result"
    }
   ],
   "source": [
    "confusion_matrix_logistic=confusion_matrix(targetV_test,targetV_pred)\n",
    "confusion_matrix_logistic"
   ]
  },
  {
   "cell_type": "code",
   "execution_count": 52,
   "metadata": {},
   "outputs": [
    {
     "data": {
      "image/png": "[encoded data removed]",
      "text/plain": [
       "<Figure size 432x288 with 2 Axes>"
      ]
     },
     "metadata": {
      "needs_background": "light"
     },
     "output_type": "display_data"
    }
   ],
   "source": [
    "ax=sns.heatmap(confusion_matrix_logistic/np.sum(confusion_matrix_logistic),annot=True,fmt='.2%',cmap='Blues')\n",
    "ax.set_xlabel('\\nPredicted Values')\n",
    "ax.set_ylabel('Actual Values');"
   ]
  },
  {
   "cell_type": "code",
   "execution_count": 53,
   "metadata": {},
   "outputs": [
    {
     "name": "stdout",
     "output_type": "stream",
     "text": [
      "0.9484536082474226\n"
     ]
    }
   ],
   "source": [
    "## obtain the accuracy of the model\n",
    "\n",
    "Acc_log=log_regression.score(independentV_train,targetV_train)\n",
    "print(Acc_log)\n"
   ]
  },
  {
   "cell_type": "markdown",
   "metadata": {},
   "source": [
    "# DECISION TREE"
   ]
  },
  {
   "cell_type": "code",
   "execution_count": 54,
   "metadata": {},
   "outputs": [
    {
     "name": "stdout",
     "output_type": "stream",
     "text": [
      "Requirement already satisfied: graphViz in c:\\users\\komal\\anaconda3\\lib\\site-packages (0.18.2)\n"
     ]
    }
   ],
   "source": [
    "! pip install graphViz"
   ]
  },
  {
   "cell_type": "code",
   "execution_count": 55,
   "metadata": {},
   "outputs": [],
   "source": [
    "import pandas as pd\n",
    "from sklearn.tree import DecisionTreeClassifier # Import Decision Tree Classifier\n",
    "from sklearn.model_selection import train_test_split # Import train_test_split function\n",
    "from sklearn import metrics"
   ]
  },
  {
   "cell_type": "code",
   "execution_count": 56,
   "metadata": {},
   "outputs": [],
   "source": [
    "from sklearn.tree import export_graphviz\n",
    "from six import StringIO \n",
    "from IPython.display import Image  \n",
    "import pydotplus\n"
   ]
  },
  {
   "cell_type": "code",
   "execution_count": 57,
   "metadata": {},
   "outputs": [],
   "source": [
    "feature_cols = ['G1','G2','age']\n",
    "X = df[feature_cols] \n",
    "Y = df.G3"
   ]
  },
  {
   "cell_type": "code",
   "execution_count": 58,
   "metadata": {},
   "outputs": [],
   "source": [
    "X_train, X_test, Y_train, Y_test = train_test_split(X, Y, test_size=0.4, random_state=40)"
   ]
  },
  {
   "cell_type": "code",
   "execution_count": 59,
   "metadata": {},
   "outputs": [],
   "source": [
    "clf = DecisionTreeClassifier(random_state=1,max_depth=2)"
   ]
  },
  {
   "cell_type": "code",
   "execution_count": 60,
   "metadata": {},
   "outputs": [],
   "source": [
    "clf = clf.fit(X_train,Y_train)\n"
   ]
  },
  {
   "cell_type": "code",
   "execution_count": 61,
   "metadata": {},
   "outputs": [],
   "source": [
    "Y_pred = clf.predict(X_test)"
   ]
  },
  {
   "cell_type": "code",
   "execution_count": 62,
   "metadata": {},
   "outputs": [
    {
     "name": "stdout",
     "output_type": "stream",
     "text": [
      "0.36246786632390743\n"
     ]
    }
   ],
   "source": [
    "Acc_tst= clf.score(X_test,Y_test)\n",
    "print(Acc_tst)"
   ]
  },
  {
   "cell_type": "code",
   "execution_count": 63,
   "metadata": {},
   "outputs": [
    {
     "data": {
      "image/png": "[encoded data removed]",
      "text/plain": [
       "<IPython.core.display.Image object>"
      ]
     },
     "execution_count": 63,
     "metadata": {},
     "output_type": "execute_result"
    }
   ],
   "source": [
    "dot_data = StringIO()\n",
    "export_graphviz(clf, out_file=dot_data,  \n",
    "                filled=True, rounded=True,\n",
    "                feature_names = feature_cols)\n",
    "graph = pydotplus.graph_from_dot_data(dot_data.getvalue())  \n",
    "\n",
    "graph.write_png('health_levels.png')\n",
    "Image(graph.create_png())"
   ]
  },
  {
   "cell_type": "markdown",
   "metadata": {},
   "source": [
    "# RANDOM FOREST REGRESSION "
   ]
  },
  {
   "cell_type": "code",
   "execution_count": 64,
   "metadata": {},
   "outputs": [],
   "source": [
    "from sklearn.ensemble import RandomForestRegressor"
   ]
  },
  {
   "cell_type": "code",
   "execution_count": 65,
   "metadata": {},
   "outputs": [],
   "source": [
    "X_train, X_test, y_train, y_test = train_test_split(X, y, test_size=0.4, random_state=40)"
   ]
  },
  {
   "cell_type": "code",
   "execution_count": 66,
   "metadata": {},
   "outputs": [],
   "source": [
    "rf = RandomForestRegressor(n_estimators = 500,random_state=1)"
   ]
  },
  {
   "cell_type": "code",
   "execution_count": 67,
   "metadata": {},
   "outputs": [
    {
     "data": {
      "text/plain": [
       "RandomForestRegressor(n_estimators=500, random_state=1)"
      ]
     },
     "execution_count": 67,
     "metadata": {},
     "output_type": "execute_result"
    }
   ],
   "source": [
    "rf.fit(X_train,y_train)"
   ]
  },
  {
   "cell_type": "code",
   "execution_count": 68,
   "metadata": {},
   "outputs": [],
   "source": [
    "rf_predict = rf.predict(X_test)"
   ]
  },
  {
   "cell_type": "code",
   "execution_count": 69,
   "metadata": {},
   "outputs": [
    {
     "data": {
      "text/plain": [
       "0.8607474665389289"
      ]
     },
     "execution_count": 69,
     "metadata": {},
     "output_type": "execute_result"
    }
   ],
   "source": [
    "Acc_rf=rf.score(X_test,y_test)\n",
    "Acc_rf"
   ]
  },
  {
   "cell_type": "code",
   "execution_count": 70,
   "metadata": {},
   "outputs": [
    {
     "data": {
      "text/html": [
       "<div>\n",
       "<style scoped>\n",
       "    .dataframe tbody tr th:only-of-type {\n",
       "        vertical-align: middle;\n",
       "    }\n",
       "\n",
       "    .dataframe tbody tr th {\n",
       "        vertical-align: top;\n",
       "    }\n",
       "\n",
       "    .dataframe thead th {\n",
       "        text-align: right;\n",
       "    }\n",
       "</style>\n",
       "<table border=\"1\" class=\"dataframe\">\n",
       "  <thead>\n",
       "    <tr style=\"text-align: right;\">\n",
       "      <th></th>\n",
       "      <th>Accuracy_of_model</th>\n",
       "    </tr>\n",
       "  </thead>\n",
       "  <tbody>\n",
       "    <tr>\n",
       "      <th>Linear_Model</th>\n",
       "      <td>0.904818</td>\n",
       "    </tr>\n",
       "    <tr>\n",
       "      <th>Logistic_Regression</th>\n",
       "      <td>0.948454</td>\n",
       "    </tr>\n",
       "    <tr>\n",
       "      <th>Decision_Tree</th>\n",
       "      <td>0.362468</td>\n",
       "    </tr>\n",
       "    <tr>\n",
       "      <th>Random_Forest</th>\n",
       "      <td>0.860747</td>\n",
       "    </tr>\n",
       "  </tbody>\n",
       "</table>\n",
       "</div>"
      ],
      "text/plain": [
       "                     Accuracy_of_model\n",
       "Linear_Model                  0.904818\n",
       "Logistic_Regression           0.948454\n",
       "Decision_Tree                 0.362468\n",
       "Random_Forest                 0.860747"
      ]
     },
     "execution_count": 70,
     "metadata": {},
     "output_type": "execute_result"
    }
   ],
   "source": [
    "Result = {'Linear_Model':Acc_Lr , 'Logistic_Regression': Acc_log ,'Decision_Tree':Acc_tst , 'Random_Forest':Acc_rf }\n",
    "pd.Series(Result).to_frame('Accuracy_of_model')"
   ]
  },
  {
   "cell_type": "code",
   "execution_count": null,
   "metadata": {},
   "outputs": [],
   "source": []
  }
 ],
 "metadata": {
  "kernelspec": {
   "display_name": "Python 3",
   "language": "python",
   "name": "python3"
  },
  "language_info": {
   "codemirror_mode": {
    "name": "ipython",
    "version": 3
   },
   "file_extension": ".py",
   "mimetype": "text/x-python",
   "name": "python",
   "nbconvert_exporter": "python",
   "pygments_lexer": "ipython3",
   "version": "3.8.5"
  }
 },
 "nbformat": 4,
 "nbformat_minor": 4
}
